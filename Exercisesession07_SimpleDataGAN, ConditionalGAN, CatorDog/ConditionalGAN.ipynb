{
 "cells": [
  {
   "cell_type": "code",
   "execution_count": 31,
   "id": "f321a39e",
   "metadata": {},
   "outputs": [],
   "source": [
    "import torch\n",
    "from torchvision import transforms, datasets\n",
    "import torch.nn as nn\n",
    "from torch import optim as optim"
   ]
  },
  {
   "cell_type": "code",
   "execution_count": 32,
   "id": "006f60e1",
   "metadata": {},
   "outputs": [
    {
     "name": "stdout",
     "output_type": "stream",
     "text": [
      "cpu\n"
     ]
    }
   ],
   "source": [
    "device = torch.device(\"cuda\" if torch.cuda.is_available() else \"cpu\")\n",
    "print(device)"
   ]
  },
  {
   "cell_type": "code",
   "execution_count": 33,
   "id": "45a47906",
   "metadata": {},
   "outputs": [],
   "source": [
    "training_parameters = {\n",
    "    \"n_epochs\": 100,\n",
    "    \"batch_size\": 100,\n",
    "}\n",
    "batch_size = training_parameters[\"batch_size\"]\n",
    "data_loader = torch.utils.data.DataLoader(datasets.MNIST('./', train=True, download=True,\n",
    "                             transform=transforms.Compose([\n",
    "                               transforms.ToTensor(),\n",
    "                               transforms.Normalize(\n",
    "                                 (0.5,), (0.5,))\n",
    "                             ])),\n",
    "batch_size=training_parameters[\"batch_size\"], shuffle=True)"
   ]
  },
  {
   "cell_type": "code",
   "execution_count": 24,
   "id": "3995270c",
   "metadata": {},
   "outputs": [
    {
     "name": "stdout",
     "output_type": "stream",
     "text": [
      "Number of batches:  600\n"
     ]
    }
   ],
   "source": [
    "num_batches = len(data_loader)\n",
    "print(\"Number of batches: \",num_batches)"
   ]
  },
  {
   "cell_type": "code",
   "execution_count": 34,
   "id": "4d535751",
   "metadata": {},
   "outputs": [
    {
     "data": {
      "image/png": "[encoded data removed]",
      "text/plain": [
       "<Figure size 432x288 with 1 Axes>"
      ]
     },
     "metadata": {
      "needs_background": "light"
     },
     "output_type": "display_data"
    }
   ],
   "source": [
    "%matplotlib inline \n",
    "from matplotlib import pyplot as plt\n",
    "\n",
    "for x,_ in data_loader:\n",
    "    plt.imshow(x.numpy()[0][0], cmap='gray')\n",
    "    break"
   ]
  },
  {
   "cell_type": "code",
   "execution_count": 35,
   "id": "08cd4bf8",
   "metadata": {},
   "outputs": [
    {
     "data": {
      "text/plain": [
       "GeneratorModel(\n",
       "  (label_embedding): Embedding(10, 10)\n",
       "  (hidden_layer1): Sequential(\n",
       "    (0): Linear(in_features=110, out_features=256, bias=True)\n",
       "    (1): LeakyReLU(negative_slope=0.2)\n",
       "  )\n",
       "  (hidden_layer2): Sequential(\n",
       "    (0): Linear(in_features=256, out_features=512, bias=True)\n",
       "    (1): LeakyReLU(negative_slope=0.2)\n",
       "  )\n",
       "  (hidden_layer3): Sequential(\n",
       "    (0): Linear(in_features=512, out_features=1024, bias=True)\n",
       "    (1): LeakyReLU(negative_slope=0.2)\n",
       "  )\n",
       "  (hidden_layer4): Sequential(\n",
       "    (0): Linear(in_features=1024, out_features=784, bias=True)\n",
       "    (1): Tanh()\n",
       "  )\n",
       ")"
      ]
     },
     "execution_count": 35,
     "metadata": {},
     "output_type": "execute_result"
    }
   ],
   "source": [
    "class GeneratorModel(nn.Module):\n",
    "    def __init__(self):\n",
    "        super(GeneratorModel, self).__init__()\n",
    "        input_dim = 100 + 10\n",
    "        output_dim = 784\n",
    "        self.label_embedding = nn.Embedding(10, 10)\n",
    "        \n",
    "        self.hidden_layer1 = nn.Sequential(\n",
    "            nn.Linear(input_dim, 256),\n",
    "            nn.LeakyReLU(0.2)\n",
    "        )\n",
    "\n",
    "        self.hidden_layer2 = nn.Sequential(\n",
    "            nn.Linear(256, 512),\n",
    "            nn.LeakyReLU(0.2)\n",
    "        )\n",
    "\n",
    "        self.hidden_layer3 = nn.Sequential(\n",
    "            nn.Linear(512, 1024),\n",
    "            nn.LeakyReLU(0.2)\n",
    "        )\n",
    "\n",
    "        self.hidden_layer4 = nn.Sequential(\n",
    "            nn.Linear(1024, output_dim),\n",
    "            nn.Tanh()\n",
    "        )\n",
    "    \n",
    "    def forward(self, x, labels):\n",
    "        c = self.label_embedding(labels)\n",
    "        x = torch.cat([x,c], 1)\n",
    "        output = self.hidden_layer1(x)\n",
    "        output = self.hidden_layer2(output)\n",
    "        output = self.hidden_layer3(output)\n",
    "        output = self.hidden_layer4(output)\n",
    "        return output.to(device)\n",
    "\n",
    "class DiscriminatorModel(nn.Module):\n",
    "    def __init__(self):\n",
    "        super(DiscriminatorModel, self).__init__()\n",
    "        input_dim = 784 + 10\n",
    "        output_dim = 1\n",
    "        self.label_embedding = nn.Embedding(10, 10)\n",
    "\n",
    "        self.hidden_layer1 = nn.Sequential(\n",
    "            nn.Linear(input_dim, 1024),\n",
    "            nn.LeakyReLU(0.2),\n",
    "            nn.Dropout(0.3)\n",
    "        )\n",
    "\n",
    "        self.hidden_layer2 = nn.Sequential(\n",
    "            nn.Linear(1024, 512),\n",
    "            nn.LeakyReLU(0.2),\n",
    "            nn.Dropout(0.3)\n",
    "        )\n",
    "\n",
    "        self.hidden_layer3 = nn.Sequential(\n",
    "            nn.Linear(512, 256),\n",
    "            nn.LeakyReLU(0.2),\n",
    "            nn.Dropout(0.3)\n",
    "        )\n",
    "\n",
    "        self.hidden_layer4 = nn.Sequential(\n",
    "            nn.Linear(256, output_dim),\n",
    "            nn.Sigmoid()\n",
    "        )\n",
    "\n",
    "    def forward(self, x, labels):\n",
    "        c = self.label_embedding(labels)\n",
    "        x = torch.cat([x, c], 1)\n",
    "        output = self.hidden_layer1(x)\n",
    "        output = self.hidden_layer2(output)\n",
    "        output = self.hidden_layer3(output)\n",
    "        output = self.hidden_layer4(output)\n",
    "\n",
    "        return output.to(device)\n",
    "\n",
    "discriminator = DiscriminatorModel()\n",
    "generator = GeneratorModel()\n",
    "discriminator.to(device)\n",
    "generator.to(device)"
   ]
  },
  {
   "cell_type": "code",
   "execution_count": 36,
   "id": "2565ff91",
   "metadata": {},
   "outputs": [],
   "source": [
    "discriminator_optimizer = optim.Adam(discriminator.parameters(), lr=0.0002)\n",
    "generator_optimizer = optim.Adam(generator.parameters(), lr=0.0002)\n",
    "\n",
    "loss = nn.BCELoss()"
   ]
  },
  {
   "cell_type": "code",
   "execution_count": 37,
   "id": "67bb406a",
   "metadata": {},
   "outputs": [
    {
     "data": {
      "text/plain": [
       "tensor([1, 1, 1, 1, 1, 1, 1, 1, 1, 1, 1, 1, 1, 1, 1, 1, 1, 1, 1, 1, 1, 1, 1, 1,\n",
       "        1, 1, 1, 1, 1, 1, 1, 1, 1, 1, 1, 1, 1, 1, 1, 1, 1, 1, 1, 1, 1, 1, 1, 1,\n",
       "        1, 1, 1, 1, 1, 1, 1, 1, 1, 1, 1, 1, 1, 1, 1, 1, 1, 1, 1, 1, 1, 1, 1, 1,\n",
       "        1, 1, 1, 1, 1, 1, 1, 1, 1, 1, 1, 1, 1, 1, 1, 1, 1, 1, 1, 1, 1, 1, 1, 1,\n",
       "        1, 1, 1, 1])"
      ]
     },
     "execution_count": 37,
     "metadata": {},
     "output_type": "execute_result"
    }
   ],
   "source": [
    "torch.ones(batch_size, dtype = torch.long)"
   ]
  },
  {
   "cell_type": "code",
   "execution_count": 38,
   "id": "cb06276c",
   "metadata": {},
   "outputs": [
    {
     "name": "stdout",
     "output_type": "stream",
     "text": [
      "[0/100]: loss_d: 0.516, loss_g: 2.247\n",
      "[1/100]: loss_d: 0.629, loss_g: 1.192\n",
      "[2/100]: loss_d: 0.598, loss_g: 1.163\n",
      "[3/100]: loss_d: 0.465, loss_g: 2.121\n",
      "[4/100]: loss_d: 0.332, loss_g: 2.641\n",
      "[5/100]: loss_d: 0.272, loss_g: 2.964\n",
      "[6/100]: loss_d: 0.311, loss_g: 2.684\n",
      "[7/100]: loss_d: 0.271, loss_g: 2.948\n",
      "[8/100]: loss_d: 0.271, loss_g: 2.817\n",
      "Training Steps Completed:  499\n",
      "2\n"
     ]
    },
    {
     "data": {
      "image/png": "[encoded data removed]",
      "text/plain": [
       "<Figure size 432x288 with 1 Axes>"
      ]
     },
     "metadata": {
      "needs_background": "light"
     },
     "output_type": "display_data"
    },
    {
     "name": "stdout",
     "output_type": "stream",
     "text": [
      "[9/100]: loss_d: 0.310, loss_g: 2.510\n",
      "[10/100]: loss_d: 0.316, loss_g: 2.414\n",
      "[11/100]: loss_d: 0.309, loss_g: 2.512\n",
      "[12/100]: loss_d: 0.325, loss_g: 2.434\n",
      "[13/100]: loss_d: 0.356, loss_g: 2.184\n",
      "[14/100]: loss_d: 0.379, loss_g: 2.083\n",
      "[15/100]: loss_d: 0.374, loss_g: 2.061\n",
      "[16/100]: loss_d: 0.391, loss_g: 1.980\n",
      "[17/100]: loss_d: 0.417, loss_g: 1.851\n",
      "[18/100]: loss_d: 0.422, loss_g: 1.839\n",
      "Training Steps Completed:  499\n",
      "8\n"
     ]
    },
    {
     "data": {
      "image/png": "[encoded data removed]",
      "text/plain": [
       "<Figure size 432x288 with 1 Axes>"
      ]
     },
     "metadata": {
      "needs_background": "light"
     },
     "output_type": "display_data"
    },
    {
     "name": "stdout",
     "output_type": "stream",
     "text": [
      "[19/100]: loss_d: 0.444, loss_g: 1.712\n",
      "[20/100]: loss_d: 0.442, loss_g: 1.726\n",
      "[21/100]: loss_d: 0.448, loss_g: 1.685\n",
      "[22/100]: loss_d: 0.469, loss_g: 1.588\n",
      "[23/100]: loss_d: 0.473, loss_g: 1.571\n",
      "[24/100]: loss_d: 0.489, loss_g: 1.492\n",
      "[25/100]: loss_d: 0.497, loss_g: 1.444\n",
      "[26/100]: loss_d: 0.497, loss_g: 1.459\n",
      "[27/100]: loss_d: 0.502, loss_g: 1.412\n",
      "[28/100]: loss_d: 0.508, loss_g: 1.388\n",
      "Training Steps Completed:  499\n",
      "6\n"
     ]
    },
    {
     "data": {
      "image/png": "[encoded data removed]",
      "text/plain": [
       "<Figure size 432x288 with 1 Axes>"
      ]
     },
     "metadata": {
      "needs_background": "light"
     },
     "output_type": "display_data"
    },
    {
     "name": "stdout",
     "output_type": "stream",
     "text": [
      "[29/100]: loss_d: 0.519, loss_g: 1.357\n",
      "[30/100]: loss_d: 0.524, loss_g: 1.326\n",
      "[31/100]: loss_d: 0.531, loss_g: 1.299\n",
      "[32/100]: loss_d: 0.535, loss_g: 1.297\n",
      "[33/100]: loss_d: 0.540, loss_g: 1.268\n",
      "[34/100]: loss_d: 0.544, loss_g: 1.239\n",
      "[35/100]: loss_d: 0.558, loss_g: 1.179\n",
      "[36/100]: loss_d: 0.561, loss_g: 1.186\n",
      "[37/100]: loss_d: 0.561, loss_g: 1.183\n",
      "[38/100]: loss_d: 0.564, loss_g: 1.150\n",
      "Training Steps Completed:  499\n",
      "5\n"
     ]
    },
    {
     "data": {
      "image/png": "[encoded data removed]",
      "text/plain": [
       "<Figure size 432x288 with 1 Axes>"
      ]
     },
     "metadata": {
      "needs_background": "light"
     },
     "output_type": "display_data"
    },
    {
     "name": "stdout",
     "output_type": "stream",
     "text": [
      "[39/100]: loss_d: 0.579, loss_g: 1.098\n",
      "[40/100]: loss_d: 0.568, loss_g: 1.135\n",
      "[41/100]: loss_d: 0.573, loss_g: 1.127\n",
      "[42/100]: loss_d: 0.580, loss_g: 1.103\n",
      "[43/100]: loss_d: 0.584, loss_g: 1.089\n",
      "[44/100]: loss_d: 0.584, loss_g: 1.093\n",
      "[45/100]: loss_d: 0.585, loss_g: 1.076\n",
      "[46/100]: loss_d: 0.591, loss_g: 1.061\n",
      "[47/100]: loss_d: 0.599, loss_g: 1.022\n",
      "[48/100]: loss_d: 0.604, loss_g: 1.012\n",
      "Training Steps Completed:  499\n",
      "9\n"
     ]
    },
    {
     "data": {
      "image/png": "[encoded data removed]",
      "text/plain": [
       "<Figure size 432x288 with 1 Axes>"
      ]
     },
     "metadata": {
      "needs_background": "light"
     },
     "output_type": "display_data"
    },
    {
     "name": "stdout",
     "output_type": "stream",
     "text": [
      "[49/100]: loss_d: 0.602, loss_g: 1.032\n",
      "[50/100]: loss_d: 0.596, loss_g: 1.041\n",
      "[51/100]: loss_d: 0.601, loss_g: 1.030\n",
      "[52/100]: loss_d: 0.599, loss_g: 1.029\n",
      "[53/100]: loss_d: 0.606, loss_g: 1.014\n",
      "[54/100]: loss_d: 0.603, loss_g: 1.021\n",
      "[55/100]: loss_d: 0.601, loss_g: 1.018\n",
      "[56/100]: loss_d: 0.607, loss_g: 0.996\n",
      "[57/100]: loss_d: 0.617, loss_g: 0.969\n",
      "[58/100]: loss_d: 0.616, loss_g: 0.978\n",
      "Training Steps Completed:  499\n",
      "7\n"
     ]
    },
    {
     "data": {
      "image/png": "[encoded data removed]",
      "text/plain": [
       "<Figure size 432x288 with 1 Axes>"
      ]
     },
     "metadata": {
      "needs_background": "light"
     },
     "output_type": "display_data"
    },
    {
     "name": "stdout",
     "output_type": "stream",
     "text": [
      "[59/100]: loss_d: 0.613, loss_g: 0.976\n",
      "[60/100]: loss_d: 0.620, loss_g: 0.945\n",
      "[61/100]: loss_d: 0.627, loss_g: 0.919\n",
      "[62/100]: loss_d: 0.623, loss_g: 0.942\n",
      "[63/100]: loss_d: 0.622, loss_g: 0.949\n",
      "[64/100]: loss_d: 0.623, loss_g: 0.947\n",
      "[65/100]: loss_d: 0.621, loss_g: 0.947\n",
      "[66/100]: loss_d: 0.625, loss_g: 0.932\n",
      "[67/100]: loss_d: 0.628, loss_g: 0.924\n",
      "[68/100]: loss_d: 0.630, loss_g: 0.926\n",
      "Training Steps Completed:  499\n",
      "3\n"
     ]
    },
    {
     "data": {
      "image/png": "[encoded data removed]",
      "text/plain": [
       "<Figure size 432x288 with 1 Axes>"
      ]
     },
     "metadata": {
      "needs_background": "light"
     },
     "output_type": "display_data"
    },
    {
     "name": "stdout",
     "output_type": "stream",
     "text": [
      "[69/100]: loss_d: 0.626, loss_g: 0.928\n",
      "[70/100]: loss_d: 0.630, loss_g: 0.920\n",
      "[71/100]: loss_d: 0.625, loss_g: 0.955\n",
      "[72/100]: loss_d: 0.624, loss_g: 0.932\n",
      "[73/100]: loss_d: 0.628, loss_g: 0.921\n",
      "[74/100]: loss_d: 0.634, loss_g: 0.907\n",
      "[75/100]: loss_d: 0.642, loss_g: 0.876\n",
      "[76/100]: loss_d: 0.637, loss_g: 0.891\n",
      "[77/100]: loss_d: 0.635, loss_g: 0.915\n",
      "[78/100]: loss_d: 0.636, loss_g: 0.898\n",
      "Training Steps Completed:  499\n",
      "4\n"
     ]
    },
    {
     "data": {
      "image/png": "[encoded data removed]",
      "text/plain": [
       "<Figure size 432x288 with 1 Axes>"
      ]
     },
     "metadata": {
      "needs_background": "light"
     },
     "output_type": "display_data"
    },
    {
     "name": "stdout",
     "output_type": "stream",
     "text": [
      "[79/100]: loss_d: 0.642, loss_g: 0.880\n",
      "[80/100]: loss_d: 0.639, loss_g: 0.886\n",
      "[81/100]: loss_d: 0.641, loss_g: 0.884\n",
      "[82/100]: loss_d: 0.639, loss_g: 0.889\n",
      "[83/100]: loss_d: 0.638, loss_g: 0.888\n",
      "[84/100]: loss_d: 0.634, loss_g: 0.910\n",
      "[85/100]: loss_d: 0.633, loss_g: 0.905\n",
      "[86/100]: loss_d: 0.640, loss_g: 0.883\n",
      "[87/100]: loss_d: 0.639, loss_g: 0.909\n",
      "[88/100]: loss_d: 0.635, loss_g: 0.891\n",
      "Training Steps Completed:  499\n",
      "9\n"
     ]
    },
    {
     "data": {
      "image/png": "[encoded data removed]",
      "text/plain": [
       "<Figure size 432x288 with 1 Axes>"
      ]
     },
     "metadata": {
      "needs_background": "light"
     },
     "output_type": "display_data"
    },
    {
     "name": "stdout",
     "output_type": "stream",
     "text": [
      "[89/100]: loss_d: 0.642, loss_g: 0.877\n",
      "[90/100]: loss_d: 0.647, loss_g: 0.857\n",
      "[91/100]: loss_d: 0.649, loss_g: 0.855\n",
      "[92/100]: loss_d: 0.644, loss_g: 0.874\n",
      "[93/100]: loss_d: 0.639, loss_g: 0.891\n",
      "[94/100]: loss_d: 0.641, loss_g: 0.878\n",
      "[95/100]: loss_d: 0.646, loss_g: 0.867\n",
      "[96/100]: loss_d: 0.645, loss_g: 0.871\n",
      "[97/100]: loss_d: 0.642, loss_g: 0.873\n",
      "[98/100]: loss_d: 0.650, loss_g: 0.854\n",
      "Training Steps Completed:  499\n",
      "2\n"
     ]
    },
    {
     "data": {
      "image/png": "[encoded data removed]",
      "text/plain": [
       "<Figure size 432x288 with 1 Axes>"
      ]
     },
     "metadata": {
      "needs_background": "light"
     },
     "output_type": "display_data"
    },
    {
     "name": "stdout",
     "output_type": "stream",
     "text": [
      "[99/100]: loss_d: 0.642, loss_g: 0.882\n"
     ]
    }
   ],
   "source": [
    "n_epochs = training_parameters[\"n_epochs\"]\n",
    "batch_size = training_parameters[\"batch_size\"]\n",
    "\n",
    "for epoch_idx in range(n_epochs):\n",
    "    G_loss = []\n",
    "    D_loss = []\n",
    "    for batch_idx, data_input in enumerate(data_loader):\n",
    "        \n",
    "        \n",
    "        noise = torch.randn(batch_size,100).to(device)\n",
    "        fake_labels = torch.randint(0, 10, (batch_size,)).to(device)\n",
    "        generated_data = generator(noise, fake_labels) # batch_size X 784\n",
    "\n",
    "        \n",
    "        # Discriminator\n",
    "        true_data = data_input[0].view(batch_size, 784).to(device) # batch_size X 784\n",
    "        digit_labels = data_input[1].to(device) # batch_size\n",
    "        true_labels = torch.ones(batch_size).to(device)\n",
    "        \n",
    "        discriminator_optimizer.zero_grad()\n",
    "\n",
    "        discriminator_output_for_true_data = discriminator(true_data, digit_labels).view(batch_size)\n",
    "        true_discriminator_loss = loss(discriminator_output_for_true_data, true_labels)\n",
    "\n",
    "        discriminator_output_for_generated_data = discriminator(generated_data.detach(), fake_labels).view(batch_size)\n",
    "        generator_discriminator_loss = loss(\n",
    "            discriminator_output_for_generated_data, torch.zeros(batch_size).to(device)\n",
    "        )\n",
    "        discriminator_loss = (\n",
    "            true_discriminator_loss + generator_discriminator_loss\n",
    "        ) / 2\n",
    "        \n",
    "        discriminator_loss.backward()\n",
    "        discriminator_optimizer.step()\n",
    "\n",
    "        D_loss.append(discriminator_loss.data.item())\n",
    "        \n",
    "        \n",
    "        # Generator\n",
    "\n",
    "        generator_optimizer.zero_grad()\n",
    "        # It's a choice to generate the data again\n",
    "        generated_data = generator(noise, fake_labels) # batch_size X 784\n",
    "        discriminator_output_on_generated_data = discriminator(generated_data, fake_labels).view(batch_size)\n",
    "        generator_loss = loss(discriminator_output_on_generated_data, true_labels)\n",
    "        generator_loss.backward()\n",
    "        generator_optimizer.step()\n",
    "        \n",
    "        G_loss.append(generator_loss.data.item())\n",
    "        if ((batch_idx + 1)% 500 == 0 and (epoch_idx + 1)%10 == 0):\n",
    "            print(\"Training Steps Completed: \", batch_idx)\n",
    "            \n",
    "            with torch.no_grad():\n",
    "                noise = torch.randn(batch_size,100).to(device)\n",
    "                fake_labels = torch.randint(0, 10, (batch_size,)).to(device)\n",
    "                generated_data = generator(noise, fake_labels).cpu().view(batch_size, 28, 28)\n",
    "                for x in generated_data:\n",
    "                    print(fake_labels[0].item())\n",
    "                    plt.imshow(x.detach().numpy(), interpolation='nearest',cmap='gray')\n",
    "                    plt.show()\n",
    "\n",
    "                    break\n",
    "\n",
    "\n",
    "    print('[%d/%d]: loss_d: %.3f, loss_g: %.3f' % (\n",
    "            (epoch_idx), n_epochs, torch.mean(torch.FloatTensor(D_loss)), torch.mean(torch.FloatTensor(G_loss))))\n",
    "    "
   ]
  },
  {
   "cell_type": "code",
   "execution_count": 39,
   "id": "d523b654",
   "metadata": {},
   "outputs": [
    {
     "name": "stdout",
     "output_type": "stream",
     "text": [
      "5\n"
     ]
    },
    {
     "data": {
      "image/png": "[encoded data removed]",
      "text/plain": [
       "<Figure size 432x288 with 1 Axes>"
      ]
     },
     "metadata": {
      "needs_background": "light"
     },
     "output_type": "display_data"
    }
   ],
   "source": [
    "noise = torch.randn(1,100).to(device)\n",
    "labels = torch.randint(5, 6, (1,)).to(device)\n",
    "generated_data = generator(noise, labels).cpu().view(1, 28, 28)\n",
    "for x in generated_data:\n",
    "  print(labels[0].item())\n",
    "  plt.imshow(x.detach().numpy(), interpolation='nearest',cmap='gray_r')\n",
    "  plt.show()"
   ]
  }
 ],
 "metadata": {
  "kernelspec": {
   "display_name": "Python 3",
   "language": "python",
   "name": "python3"
  },
  "language_info": {
   "codemirror_mode": {
    "name": "ipython",
    "version": 3
   },
   "file_extension": ".py",
   "mimetype": "text/x-python",
   "name": "python",
   "nbconvert_exporter": "python",
   "pygments_lexer": "ipython3",
   "version": "3.9.9"
  }
 },
 "nbformat": 4,
 "nbformat_minor": 5
}

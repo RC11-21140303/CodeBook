{
 "cells": [
  {
   "cell_type": "markdown",
   "metadata": {},
   "source": [
    "# Exercises - Complexity"
   ]
  },
  {
   "cell_type": "markdown",
   "metadata": {},
   "source": [
    "## Exercise 1.\n",
    "Suppose we have a computer which can perform 1 million (= $10^6$) operations per second. \n",
    "\n",
    "The formulas below denote the running time of some algorithms (in number of operations) depending on the number of elements $n$ we feed to the algorithm. Determine for each algorithm how many elements can be processed in 1 minute.\n",
    "\n",
    "1. $n$\n",
    "2. $n^2$\n",
    "3. $n^3$\n",
    "4. $n!$ _(This is called n factorial)_\n",
    "5. $n*lg(n)$\n",
    "6. $2^n$\n",
    "7. $\\sqrt n$\n",
    "8. $n^{50}$\n",
    "9. $2^n$\n"
   ]
  },
  {
   "cell_type": "markdown",
   "metadata": {},
   "source": [
    "1. $6*10^7$\n",
    "2. $2*n^3*\\sqrt 15$\n",
    "3. $10^2*\\sqrt[3]60$\n",
    "4. \n",
    "5. \n",
    "6. $log2(6*10^7)$\n",
    "7. $6^2*10^{14}$\n",
    "8. $\\sqrt[50](6*10^7)$\n",
    "9. $log2(6*10^7)$                           "
   ]
  },
  {
   "cell_type": "markdown",
   "metadata": {},
   "source": [
    "## Exercise 2.\n",
    "Sort the functions below following $O(.)$\n",
    "\n",
    "1. $n$\n",
    "2. $10^6 - n^3 + 3n^5$\n",
    "3. $2^n$\n",
    "4. $n^2$\n",
    "5. $n*lg(n)$\n",
    "6. $\\sqrt n$\n",
    "7. $n!$\n"
   ]
  },
  {
   "cell_type": "markdown",
   "metadata": {},
   "source": [
    "$10^6 - n^3 + 3n^5$>$2^n$>$n^2$>$n*lg(n)$>$n$>$\\sqrt n$"
   ]
  },
  {
   "cell_type": "markdown",
   "metadata": {},
   "source": [
    "## Exercise 3.\n",
    "In mathematics, a factorial of a positive integer $n$ is denoted by $n!$. This is the product of all positive integers less than or equal to $n$. This can be given by the following set of equations:\n",
    "\n",
    "- $n! = n * (n-1)!$\n",
    "- $0! = 1$\n",
    "\n",
    "write a recursive function (so a function that calls itself within its definition) that returns the factorial of a number $n$\n"
   ]
  },
  {
   "cell_type": "code",
   "execution_count": 10,
   "metadata": {},
   "outputs": [
    {
     "name": "stdout",
     "output_type": "stream",
     "text": [
      "the factorial of 5 is 120\n"
     ]
    }
   ],
   "source": [
    "def factorial(n) :\n",
    "    if n==0:\n",
    "        return 1\n",
    "    else:\n",
    "        return(n * factorial(n-1))\n",
    "\n",
    "n=5\n",
    "print(\"the factorial of\",n,\"is\",factorial(n))"
   ]
  },
  {
   "cell_type": "markdown",
   "metadata": {},
   "source": [
    "Now comment on what you think the order complexity ofthe function is. "
   ]
  },
  {
   "cell_type": "markdown",
   "metadata": {},
   "source": [
    "answer here"
   ]
  },
  {
   "cell_type": "markdown",
   "metadata": {},
   "source": [
    "## Exercise 6\n",
    "Give the complexity in $O(.)$ of the following (dummy) algorithms, and explain why.  \n"
   ]
  },
  {
   "cell_type": "code",
   "execution_count": 12,
   "metadata": {},
   "outputs": [],
   "source": [
    "def algorithm1(n):\n",
    "    s = 0\n",
    "    i = 0\n",
    "    while i<n:\n",
    "        s += 1\n",
    "        i += 1\n",
    "    return(s,i)"
   ]
  },
  {
   "cell_type": "markdown",
   "metadata": {},
   "source": [
    "n"
   ]
  },
  {
   "cell_type": "code",
   "execution_count": 11,
   "metadata": {},
   "outputs": [],
   "source": [
    "def algorithm2(n):\n",
    "    s = 0\n",
    "    i = 0\n",
    "    while i<n:\n",
    "        j = 0\n",
    "        while j<n:\n",
    "            s += 1\n",
    "            j += 1\n",
    "        i += 1\n",
    "    return(s,i,j)"
   ]
  },
  {
   "cell_type": "markdown",
   "metadata": {},
   "source": [
    "n^2"
   ]
  },
  {
   "cell_type": "code",
   "execution_count": 12,
   "metadata": {},
   "outputs": [],
   "source": [
    "def algorithm3(n):\n",
    "    s = 0\n",
    "    i = 0\n",
    "    while i<n:\n",
    "        j = 0\n",
    "        while j<n*n:\n",
    "            s += 1\n",
    "            j += 1\n",
    "        i += 1\n",
    "    return(s,i,j)"
   ]
  },
  {
   "cell_type": "markdown",
   "metadata": {},
   "source": [
    "n^3"
   ]
  }
 ],
 "metadata": {
  "kernelspec": {
   "display_name": "Python 3",
   "language": "python",
   "name": "python3"
  },
  "language_info": {
   "codemirror_mode": {
    "name": "ipython",
    "version": 3
   },
   "file_extension": ".py",
   "mimetype": "text/x-python",
   "name": "python",
   "nbconvert_exporter": "python",
   "pygments_lexer": "ipython3",
   "version": "3.8.8"
  }
 },
 "nbformat": 4,
 "nbformat_minor": 2
}

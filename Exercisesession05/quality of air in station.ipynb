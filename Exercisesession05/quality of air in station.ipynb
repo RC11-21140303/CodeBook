{
 "cells": [
  {
   "cell_type": "code",
   "execution_count": 1,
   "metadata": {},
   "outputs": [],
   "source": [
    "import os\n",
    "import networkx as nx\n",
    "import csv\n",
    "import matplotlib.pyplot as plt\n",
    "import pyvis\n",
    "from pyvis.network import Network"
   ]
  },
  {
   "cell_type": "code",
   "execution_count": 2,
   "metadata": {},
   "outputs": [],
   "source": [
    "class QualityAir:\n",
    "    def __init__(self, DATE,TIME, NO, NO2, PM10, CO2, TEMP, HUMI,score,RDATE):\n",
    "        self.DATE = DATE\n",
    "        self.TIME = TIME\n",
    "        self.NO = NO\n",
    "        self.NO2 = NO2\n",
    "        self.PM10 = PM10\n",
    "        self.CO2 = CO2\n",
    "        self.TEMP = TEMP\n",
    "        self.HUMI = HUMI\n",
    "        self.score = score\n",
    "        self.RDATE = RDATE"
   ]
  },
  {
   "cell_type": "code",
   "execution_count": 3,
   "metadata": {},
   "outputs": [
    {
     "name": "stdout",
     "output_type": "stream",
     "text": [
      "['DATE', 'TIME', 'NO', 'NO2', 'PM10', 'CO2', 'TEMP', 'HUMI', 'score']\n",
      "['2021/11/28', '23:00:00+00:00', '3', '27', '22', '491', '14,7', '39,7', '']\n"
     ]
    }
   ],
   "source": [
    "with open(\"quality of air-csv.csv\") as csvfile:\n",
    "    reader = csv.reader(csvfile)\n",
    "    print(next(reader))\n",
    "    print(next(reader))"
   ]
  },
  {
   "cell_type": "code",
   "execution_count": 4,
   "metadata": {
    "scrolled": true
   },
   "outputs": [
    {
     "name": "stdout",
     "output_type": "stream",
     "text": [
      "271\n"
     ]
    }
   ],
   "source": [
    "with open(\"quality of air-csv.csv\") as csvfile:\n",
    "    reader = csv.reader(csvfile)\n",
    "    rows = 0\n",
    "    for r in reader:\n",
    "        rows +=1 \n",
    "    print(rows)"
   ]
  },
  {
   "cell_type": "code",
   "execution_count": 5,
   "metadata": {},
   "outputs": [],
   "source": [
    "QualityAirs = []\n",
    "with open(\"quality of air-csv.csv\") as csvfile:\n",
    "    reader = csv.DictReader(csvfile)\n",
    "    for row in reader:\n",
    "        DATE = row['DATE']\n",
    "        TIME = row['TIME']\n",
    "        NO = row['NO']\n",
    "        NO2 = row['NO2']\n",
    "        PM10 = row['PM10']\n",
    "        CO2 = row['CO2']\n",
    "        TEMP = row['TEMP']\n",
    "        HUMI = row['HUMI']\n",
    "        score = row['score']\n",
    "        RDATE = DATE + ' ' + TIME\n",
    "        QualityAirs.append(QualityAir(DATE, TIME, NO, NO2, PM10, CO2, TEMP, HUMI, score, RDATE))"
   ]
  },
  {
   "cell_type": "code",
   "execution_count": 6,
   "metadata": {},
   "outputs": [
    {
     "name": "stdout",
     "output_type": "stream",
     "text": [
      "[<__main__.QualityAir object at 0x000001AC3C25D3A0>, <__main__.QualityAir object at 0x000001AC3C25DF10>, <__main__.QualityAir object at 0x000001AC3C25DC40>, <__main__.QualityAir object at 0x000001AC3C2522E0>, <__main__.QualityAir object at 0x000001AC3C252370>, <__main__.QualityAir object at 0x000001AC3C252490>, <__main__.QualityAir object at 0x000001AC3E8FF850>, <__main__.QualityAir object at 0x000001AC3E72D610>, <__main__.QualityAir object at 0x000001AC3DDABD60>, <__main__.QualityAir object at 0x000001AC3E93EAC0>, <__main__.QualityAir object at 0x000001AC3E93EA30>, <__main__.QualityAir object at 0x000001AC3E93EC10>, <__main__.QualityAir object at 0x000001AC3E93EC40>, <__main__.QualityAir object at 0x000001AC3E93EC70>, <__main__.QualityAir object at 0x000001AC3E93ECA0>, <__main__.QualityAir object at 0x000001AC3E93ECD0>, <__main__.QualityAir object at 0x000001AC3E93ED00>, <__main__.QualityAir object at 0x000001AC3E93ED30>, <__main__.QualityAir object at 0x000001AC3E93ED60>, <__main__.QualityAir object at 0x000001AC3E93ED90>, <__main__.QualityAir object at 0x000001AC3E93EDC0>, <__main__.QualityAir object at 0x000001AC3E93EDF0>, <__main__.QualityAir object at 0x000001AC3E93EE20>, <__main__.QualityAir object at 0x000001AC3E93EE50>, <__main__.QualityAir object at 0x000001AC3E93EE80>, <__main__.QualityAir object at 0x000001AC3E93EEB0>, <__main__.QualityAir object at 0x000001AC3E93EEE0>, <__main__.QualityAir object at 0x000001AC3E93EF10>, <__main__.QualityAir object at 0x000001AC3E93EF40>, <__main__.QualityAir object at 0x000001AC3E93EF70>, <__main__.QualityAir object at 0x000001AC3E93EFA0>, <__main__.QualityAir object at 0x000001AC3E93EFD0>, <__main__.QualityAir object at 0x000001AC3E941040>, <__main__.QualityAir object at 0x000001AC3E941070>, <__main__.QualityAir object at 0x000001AC3E9410A0>, <__main__.QualityAir object at 0x000001AC3E9410D0>, <__main__.QualityAir object at 0x000001AC3E941100>, <__main__.QualityAir object at 0x000001AC3E941130>, <__main__.QualityAir object at 0x000001AC3E941160>, <__main__.QualityAir object at 0x000001AC3E941190>, <__main__.QualityAir object at 0x000001AC3E9411C0>, <__main__.QualityAir object at 0x000001AC3E9411F0>, <__main__.QualityAir object at 0x000001AC3E941220>, <__main__.QualityAir object at 0x000001AC3E941250>, <__main__.QualityAir object at 0x000001AC3E941280>, <__main__.QualityAir object at 0x000001AC3E9412B0>, <__main__.QualityAir object at 0x000001AC3E9412E0>, <__main__.QualityAir object at 0x000001AC3E941310>, <__main__.QualityAir object at 0x000001AC3E941340>, <__main__.QualityAir object at 0x000001AC3E941370>, <__main__.QualityAir object at 0x000001AC3E9413A0>, <__main__.QualityAir object at 0x000001AC3E9413D0>, <__main__.QualityAir object at 0x000001AC3E941400>, <__main__.QualityAir object at 0x000001AC3E941430>, <__main__.QualityAir object at 0x000001AC3E941460>, <__main__.QualityAir object at 0x000001AC3E941490>, <__main__.QualityAir object at 0x000001AC3E9414C0>, <__main__.QualityAir object at 0x000001AC3E9414F0>, <__main__.QualityAir object at 0x000001AC3E941520>, <__main__.QualityAir object at 0x000001AC3E941550>, <__main__.QualityAir object at 0x000001AC3E941580>, <__main__.QualityAir object at 0x000001AC3E9415B0>, <__main__.QualityAir object at 0x000001AC3E9415E0>, <__main__.QualityAir object at 0x000001AC3E941610>, <__main__.QualityAir object at 0x000001AC3E941640>, <__main__.QualityAir object at 0x000001AC3E941670>, <__main__.QualityAir object at 0x000001AC3E9416A0>, <__main__.QualityAir object at 0x000001AC3E9416D0>, <__main__.QualityAir object at 0x000001AC3E941700>, <__main__.QualityAir object at 0x000001AC3E941730>, <__main__.QualityAir object at 0x000001AC3E941760>, <__main__.QualityAir object at 0x000001AC3E941790>, <__main__.QualityAir object at 0x000001AC3E9417C0>, <__main__.QualityAir object at 0x000001AC3E9417F0>, <__main__.QualityAir object at 0x000001AC3E941820>, <__main__.QualityAir object at 0x000001AC3E941850>, <__main__.QualityAir object at 0x000001AC3E941880>, <__main__.QualityAir object at 0x000001AC3E9418B0>, <__main__.QualityAir object at 0x000001AC3E9418E0>, <__main__.QualityAir object at 0x000001AC3E941910>, <__main__.QualityAir object at 0x000001AC3E941940>, <__main__.QualityAir object at 0x000001AC3E941970>, <__main__.QualityAir object at 0x000001AC3E9419A0>, <__main__.QualityAir object at 0x000001AC3E9419D0>, <__main__.QualityAir object at 0x000001AC3E941A00>, <__main__.QualityAir object at 0x000001AC3E941A30>, <__main__.QualityAir object at 0x000001AC3E941A60>, <__main__.QualityAir object at 0x000001AC3E941A90>, <__main__.QualityAir object at 0x000001AC3E941AC0>, <__main__.QualityAir object at 0x000001AC3E941AF0>, <__main__.QualityAir object at 0x000001AC3E941B20>, <__main__.QualityAir object at 0x000001AC3E941B50>, <__main__.QualityAir object at 0x000001AC3E941B80>, <__main__.QualityAir object at 0x000001AC3E941BB0>, <__main__.QualityAir object at 0x000001AC3E941BE0>, <__main__.QualityAir object at 0x000001AC3E941C10>, <__main__.QualityAir object at 0x000001AC3E941C40>, <__main__.QualityAir object at 0x000001AC3E941C70>, <__main__.QualityAir object at 0x000001AC3E941CA0>, <__main__.QualityAir object at 0x000001AC3E941CD0>, <__main__.QualityAir object at 0x000001AC3E941D00>, <__main__.QualityAir object at 0x000001AC3E941D30>, <__main__.QualityAir object at 0x000001AC3E941D60>, <__main__.QualityAir object at 0x000001AC3E941D90>, <__main__.QualityAir object at 0x000001AC3E941DC0>, <__main__.QualityAir object at 0x000001AC3E941DF0>, <__main__.QualityAir object at 0x000001AC3E941E20>, <__main__.QualityAir object at 0x000001AC3E941E50>, <__main__.QualityAir object at 0x000001AC3E941E80>, <__main__.QualityAir object at 0x000001AC3E941EB0>, <__main__.QualityAir object at 0x000001AC3E941EE0>, <__main__.QualityAir object at 0x000001AC3E941F10>, <__main__.QualityAir object at 0x000001AC3E941F40>, <__main__.QualityAir object at 0x000001AC3E941F70>, <__main__.QualityAir object at 0x000001AC3E941FA0>, <__main__.QualityAir object at 0x000001AC3E941FD0>, <__main__.QualityAir object at 0x000001AC3E954040>, <__main__.QualityAir object at 0x000001AC3E954070>, <__main__.QualityAir object at 0x000001AC3E9540A0>, <__main__.QualityAir object at 0x000001AC3E9540D0>, <__main__.QualityAir object at 0x000001AC3E954100>, <__main__.QualityAir object at 0x000001AC3E954130>, <__main__.QualityAir object at 0x000001AC3E954160>, <__main__.QualityAir object at 0x000001AC3E954190>, <__main__.QualityAir object at 0x000001AC3E9541C0>, <__main__.QualityAir object at 0x000001AC3E9541F0>, <__main__.QualityAir object at 0x000001AC3E954220>, <__main__.QualityAir object at 0x000001AC3E8BCB50>, <__main__.QualityAir object at 0x000001AC3C25D2B0>, <__main__.QualityAir object at 0x000001AC3C25D310>, <__main__.QualityAir object at 0x000001AC3E7E7130>, <__main__.QualityAir object at 0x000001AC3E7E70A0>, <__main__.QualityAir object at 0x000001AC3E7E70D0>, <__main__.QualityAir object at 0x000001AC3E954250>, <__main__.QualityAir object at 0x000001AC3E954280>, <__main__.QualityAir object at 0x000001AC3E9542B0>, <__main__.QualityAir object at 0x000001AC3E9542E0>, <__main__.QualityAir object at 0x000001AC3E954310>, <__main__.QualityAir object at 0x000001AC3E954340>, <__main__.QualityAir object at 0x000001AC3E954370>, <__main__.QualityAir object at 0x000001AC3E9543A0>, <__main__.QualityAir object at 0x000001AC3E9543D0>, <__main__.QualityAir object at 0x000001AC3E954400>, <__main__.QualityAir object at 0x000001AC3E954430>, <__main__.QualityAir object at 0x000001AC3E954460>, <__main__.QualityAir object at 0x000001AC3E954490>, <__main__.QualityAir object at 0x000001AC3E9544C0>, <__main__.QualityAir object at 0x000001AC3E9544F0>, <__main__.QualityAir object at 0x000001AC3E954520>, <__main__.QualityAir object at 0x000001AC3E954550>, <__main__.QualityAir object at 0x000001AC3E954580>, <__main__.QualityAir object at 0x000001AC3E9545B0>, <__main__.QualityAir object at 0x000001AC3E9545E0>, <__main__.QualityAir object at 0x000001AC3E954610>, <__main__.QualityAir object at 0x000001AC3E954640>, <__main__.QualityAir object at 0x000001AC3E954670>, <__main__.QualityAir object at 0x000001AC3E9546A0>, <__main__.QualityAir object at 0x000001AC3E9546D0>, <__main__.QualityAir object at 0x000001AC3E954700>, <__main__.QualityAir object at 0x000001AC3E954730>, <__main__.QualityAir object at 0x000001AC3E954760>, <__main__.QualityAir object at 0x000001AC3E954790>, <__main__.QualityAir object at 0x000001AC3E9547C0>, <__main__.QualityAir object at 0x000001AC3E9547F0>, <__main__.QualityAir object at 0x000001AC3E954820>, <__main__.QualityAir object at 0x000001AC3E954850>, <__main__.QualityAir object at 0x000001AC3E954880>, <__main__.QualityAir object at 0x000001AC3E9548B0>, <__main__.QualityAir object at 0x000001AC3E9548E0>, <__main__.QualityAir object at 0x000001AC3E954910>, <__main__.QualityAir object at 0x000001AC3E954940>, <__main__.QualityAir object at 0x000001AC3E954970>, <__main__.QualityAir object at 0x000001AC3E9549A0>, <__main__.QualityAir object at 0x000001AC3E9549D0>, <__main__.QualityAir object at 0x000001AC3E954A00>, <__main__.QualityAir object at 0x000001AC3E954A30>, <__main__.QualityAir object at 0x000001AC3E954A60>, <__main__.QualityAir object at 0x000001AC3E954A90>, <__main__.QualityAir object at 0x000001AC3E954AC0>, <__main__.QualityAir object at 0x000001AC3E954AF0>, <__main__.QualityAir object at 0x000001AC3E954B20>, <__main__.QualityAir object at 0x000001AC3E954B50>, <__main__.QualityAir object at 0x000001AC3E954B80>, <__main__.QualityAir object at 0x000001AC3E954BB0>, <__main__.QualityAir object at 0x000001AC3E954BE0>, <__main__.QualityAir object at 0x000001AC3E954C10>, <__main__.QualityAir object at 0x000001AC3E954C40>, <__main__.QualityAir object at 0x000001AC3E954C70>, <__main__.QualityAir object at 0x000001AC3E954CA0>, <__main__.QualityAir object at 0x000001AC3E954CD0>, <__main__.QualityAir object at 0x000001AC3E954D00>, <__main__.QualityAir object at 0x000001AC3E954D30>, <__main__.QualityAir object at 0x000001AC3E954D60>, <__main__.QualityAir object at 0x000001AC3E954D90>, <__main__.QualityAir object at 0x000001AC3E954DC0>, <__main__.QualityAir object at 0x000001AC3E954DF0>, <__main__.QualityAir object at 0x000001AC3E954E20>, <__main__.QualityAir object at 0x000001AC3E954E50>, <__main__.QualityAir object at 0x000001AC3E954E80>, <__main__.QualityAir object at 0x000001AC3E954EB0>, <__main__.QualityAir object at 0x000001AC3E954EE0>, <__main__.QualityAir object at 0x000001AC3E954F10>, <__main__.QualityAir object at 0x000001AC3E954F40>, <__main__.QualityAir object at 0x000001AC3E954F70>, <__main__.QualityAir object at 0x000001AC3E954FA0>, <__main__.QualityAir object at 0x000001AC3E954FD0>, <__main__.QualityAir object at 0x000001AC3E963040>, <__main__.QualityAir object at 0x000001AC3E963070>, <__main__.QualityAir object at 0x000001AC3E9630A0>, <__main__.QualityAir object at 0x000001AC3E9630D0>, <__main__.QualityAir object at 0x000001AC3E963100>, <__main__.QualityAir object at 0x000001AC3E963130>, <__main__.QualityAir object at 0x000001AC3E963160>, <__main__.QualityAir object at 0x000001AC3E963190>, <__main__.QualityAir object at 0x000001AC3E9631C0>, <__main__.QualityAir object at 0x000001AC3E9631F0>, <__main__.QualityAir object at 0x000001AC3E963220>, <__main__.QualityAir object at 0x000001AC3E963250>, <__main__.QualityAir object at 0x000001AC3E963280>, <__main__.QualityAir object at 0x000001AC3E9632B0>, <__main__.QualityAir object at 0x000001AC3E9632E0>, <__main__.QualityAir object at 0x000001AC3E963310>, <__main__.QualityAir object at 0x000001AC3E963340>, <__main__.QualityAir object at 0x000001AC3E963370>, <__main__.QualityAir object at 0x000001AC3E9633A0>, <__main__.QualityAir object at 0x000001AC3E9633D0>, <__main__.QualityAir object at 0x000001AC3E963400>, <__main__.QualityAir object at 0x000001AC3E963430>, <__main__.QualityAir object at 0x000001AC3E963460>, <__main__.QualityAir object at 0x000001AC3E963490>, <__main__.QualityAir object at 0x000001AC3E9634C0>, <__main__.QualityAir object at 0x000001AC3E9634F0>, <__main__.QualityAir object at 0x000001AC3E963520>, <__main__.QualityAir object at 0x000001AC3E963550>, <__main__.QualityAir object at 0x000001AC3E963580>, <__main__.QualityAir object at 0x000001AC3E9635B0>, <__main__.QualityAir object at 0x000001AC3E9635E0>, <__main__.QualityAir object at 0x000001AC3E963610>, <__main__.QualityAir object at 0x000001AC3E963640>, <__main__.QualityAir object at 0x000001AC3E963670>, <__main__.QualityAir object at 0x000001AC3E9636A0>, <__main__.QualityAir object at 0x000001AC3E9636D0>, <__main__.QualityAir object at 0x000001AC3E963700>, <__main__.QualityAir object at 0x000001AC3E963730>, <__main__.QualityAir object at 0x000001AC3E963760>, <__main__.QualityAir object at 0x000001AC3E963790>, <__main__.QualityAir object at 0x000001AC3E9637C0>, <__main__.QualityAir object at 0x000001AC3E9637F0>, <__main__.QualityAir object at 0x000001AC3E963820>, <__main__.QualityAir object at 0x000001AC3E963850>, <__main__.QualityAir object at 0x000001AC3E963880>, <__main__.QualityAir object at 0x000001AC3E9638B0>, <__main__.QualityAir object at 0x000001AC3E9638E0>, <__main__.QualityAir object at 0x000001AC3E963910>, <__main__.QualityAir object at 0x000001AC3E963940>, <__main__.QualityAir object at 0x000001AC3E963970>, <__main__.QualityAir object at 0x000001AC3E9639A0>, <__main__.QualityAir object at 0x000001AC3E9639D0>, <__main__.QualityAir object at 0x000001AC3E963A00>, <__main__.QualityAir object at 0x000001AC3E963A30>, <__main__.QualityAir object at 0x000001AC3E963A60>, <__main__.QualityAir object at 0x000001AC3E963A90>, <__main__.QualityAir object at 0x000001AC3E963AC0>, <__main__.QualityAir object at 0x000001AC3E963AF0>, <__main__.QualityAir object at 0x000001AC3E963B20>, <__main__.QualityAir object at 0x000001AC3E963B50>, <__main__.QualityAir object at 0x000001AC3E963B80>, <__main__.QualityAir object at 0x000001AC3E963BB0>, <__main__.QualityAir object at 0x000001AC3E963BE0>, <__main__.QualityAir object at 0x000001AC3E963C10>]\n"
     ]
    }
   ],
   "source": [
    "counttemp = 0\n",
    "for f in QualityAirs:\n",
    "    if int(f.NO) < 10:\n",
    "        counttemp=counttemp+1\n",
    "    if int(f.NO2) < 25:\n",
    "        counttemp=counttemp+1\n",
    "    if int(f.PM10) < 20:\n",
    "        counttemp=counttemp+1\n",
    "    if counttemp == 0:\n",
    "        f.score='0'\n",
    "    if counttemp == 1:\n",
    "        f.score='1'\n",
    "    if counttemp == 2: \n",
    "        f.score='2'\n",
    "    if counttemp == 3: \n",
    "        f.score='3'\n",
    "    counttemp = 0\n",
    "print(QualityAirs)"
   ]
  },
  {
   "cell_type": "code",
   "execution_count": 7,
   "metadata": {},
   "outputs": [
    {
     "name": "stdout",
     "output_type": "stream",
     "text": [
      "2021/11/27\n",
      "21:00:00+00:00\n",
      "12\n",
      "0\n"
     ]
    }
   ],
   "source": [
    "print(QualityAirs[20].DATE)\n",
    "print(QualityAirs[20].TIME)\n",
    "print(QualityAirs[20].NO)\n",
    "print(QualityAirs[19].score)"
   ]
  },
  {
   "cell_type": "code",
   "execution_count": 8,
   "metadata": {},
   "outputs": [],
   "source": [
    "QualityAirGraph = nx.Graph()"
   ]
  },
  {
   "cell_type": "code",
   "execution_count": 9,
   "metadata": {},
   "outputs": [],
   "source": [
    "QualityAirSubset = QualityAirs[0:50]"
   ]
  },
  {
   "cell_type": "code",
   "execution_count": 10,
   "metadata": {},
   "outputs": [],
   "source": [
    "for f1 in QualityAirSubset:\n",
    "    QualityAirGraph.add_node(f1.RDATE, size=60, label= f1.RDATE)\n",
    "    #nx_graph.add_node(25, size=25, label='lonely', title='lonely node', group=3)"
   ]
  },
  {
   "cell_type": "code",
   "execution_count": 11,
   "metadata": {},
   "outputs": [],
   "source": [
    "for f1 in QualityAirSubset:\n",
    "    for f2 in QualityAirSubset:\n",
    "        if not f1 == f2:\n",
    "            if f1.score == f2.score:\n",
    "                if f1.score=='0':\n",
    "                    QualityAirGraph.add_edge(f1.RDATE,f2.RDATE,value=1,color='blue')\n",
    "                if f1.score=='1':\n",
    "                    QualityAirGraph.add_edge(f1.RDATE,f2.RDATE,value=1,color='orange')\n",
    "                if f1.score=='2':\n",
    "                    QualityAirGraph.add_edge(f1.RDATE,f2.RDATE,value=1,color='purple')\n",
    "                if f1.score=='3':\n",
    "                    QualityAirGraph.add_edge(f1.RDATE,f2.RDATE,value=1,color='turquoise')\n",
    "            if f1.DATE == f2.DATE:\n",
    "                QualityAirGraph.add_edge(f1.RDATE,f2.RDATE,value=0.1,color='gray')"
   ]
  },
  {
   "cell_type": "code",
   "execution_count": 12,
   "metadata": {},
   "outputs": [],
   "source": [
    "nt = Network('800px', '800px')\n",
    "nt.barnes_hut()\n",
    "nt.show_buttons(filter_=['physics'])\n",
    "nt.from_nx(QualityAirGraph)\n",
    "nt.show('nx1.html')"
   ]
  },
  {
   "cell_type": "markdown",
   "metadata": {},
   "source": [
    "This graph shows the connections between netflix films based their cast members. "
   ]
  },
  {
   "cell_type": "code",
   "execution_count": null,
   "metadata": {},
   "outputs": [],
   "source": []
  }
 ],
 "metadata": {
  "kernelspec": {
   "display_name": "Python 3",
   "language": "python",
   "name": "python3"
  },
  "language_info": {
   "codemirror_mode": {
    "name": "ipython",
    "version": 3
   },
   "file_extension": ".py",
   "mimetype": "text/x-python",
   "name": "python",
   "nbconvert_exporter": "python",
   "pygments_lexer": "ipython3",
   "version": "3.8.8"
  }
 },
 "nbformat": 4,
 "nbformat_minor": 4
}

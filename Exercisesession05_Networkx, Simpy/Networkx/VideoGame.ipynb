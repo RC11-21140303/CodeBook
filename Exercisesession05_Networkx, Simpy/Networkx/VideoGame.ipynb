{
 "cells": [
  {
   "cell_type": "code",
   "execution_count": 117,
   "metadata": {},
   "outputs": [],
   "source": [
    "import os\n",
    "import networkx as nx\n",
    "import csv\n",
    "import matplotlib.pyplot as plt\n",
    "import pyvis\n",
    "from pyvis.network import Network"
   ]
  },
  {
   "cell_type": "code",
   "execution_count": 118,
   "metadata": {},
   "outputs": [],
   "source": [
    "class Vgsale:\n",
    "    def __init__(self, Name, Platform, Year, Genre, Publisher, NA_Sales, EU_Sales, JP_Sales, Other_Sales, Global_Sales, label):\n",
    "        self.Name = Name\n",
    "        self.Platform = Platform\n",
    "        self.Year = Year\n",
    "        self.Genre = Genre\n",
    "        self.Publisher = Publisher\n",
    "        self.NA_Sales = NA_Sales\n",
    "        self.EU_Sales = EU_Sales\n",
    "        self.JP_Sales = JP_Sales\n",
    "        self.Other_Sales = Other_Sales\n",
    "        self.Global_Sales = Global_Sales\n",
    "        self.label = label"
   ]
  },
  {
   "cell_type": "code",
   "execution_count": 119,
   "metadata": {},
   "outputs": [
    {
     "name": "stdout",
     "output_type": "stream",
     "text": [
      "['Rank', 'Name', 'Platform', 'Year', 'Genre', 'Publisher', 'NA_Sales', 'EU_Sales', 'JP_Sales', 'Other_Sales', 'Global_Sales']\n",
      "['1', 'Wii Sports', 'Wii', '2006', 'Sports', 'Nintendo', '41.49', '29.02', '3.77', '8.46', '82.74']\n"
     ]
    }
   ],
   "source": [
    "with open(\"vgsales.csv\") as csvfile:\n",
    "    reader = csv.reader(csvfile)\n",
    "    print(next(reader))\n",
    "    print(next(reader))"
   ]
  },
  {
   "cell_type": "code",
   "execution_count": 120,
   "metadata": {
    "scrolled": true
   },
   "outputs": [
    {
     "name": "stdout",
     "output_type": "stream",
     "text": [
      "16599\n"
     ]
    }
   ],
   "source": [
    "with open(\"vgsales.csv\") as csvfile:\n",
    "    reader = csv.reader(csvfile)\n",
    "    rows = 0\n",
    "    for r in reader:\n",
    "        rows +=1 \n",
    "    print(rows)"
   ]
  },
  {
   "cell_type": "code",
   "execution_count": 121,
   "metadata": {},
   "outputs": [],
   "source": [
    "Vgsales = []\n",
    "with open(\"vgsales.csv\") as csvfile:\n",
    "    reader = csv.DictReader(csvfile)\n",
    "    for row in reader:\n",
    "        Name = row['Name']\n",
    "        Platform = row['Platform']\n",
    "        Year = row['Year']\n",
    "        Genre = row['Genre']\n",
    "        Publisher = row['Publisher']\n",
    "        NA_Sales = row['NA_Sales']\n",
    "        EU_Sales = row['EU_Sales']\n",
    "        JP_Sales = row['JP_Sales']\n",
    "        Other_Sales = row['Other_Sales']\n",
    "        Global_Sales = row['Global_Sales']\n",
    "        label = Name + ' ' + Platform\n",
    "        Vgsales.append(Vgsale(Name, Platform, Year, Genre, Publisher, NA_Sales, EU_Sales, JP_Sales, Other_Sales, Global_Sales,label))"
   ]
  },
  {
   "cell_type": "code",
   "execution_count": 122,
   "metadata": {},
   "outputs": [
    {
     "name": "stdout",
     "output_type": "stream",
     "text": [
      "Pokemon Diamond/Pokemon Pearl\n",
      "2006\n",
      "Role-Playing\n",
      "Nintendo\n"
     ]
    }
   ],
   "source": [
    "print(Vgsales[20].Name)\n",
    "print(Vgsales[20].Year)\n",
    "print(Vgsales[20].Genre)\n",
    "print(Vgsales[19].Publisher)"
   ]
  },
  {
   "cell_type": "code",
   "execution_count": 123,
   "metadata": {},
   "outputs": [],
   "source": [
    "VgsaleGraph = nx.Graph()"
   ]
  },
  {
   "cell_type": "code",
   "execution_count": 124,
   "metadata": {},
   "outputs": [],
   "source": [
    "VgsaleSubset = Vgsales[0:100]"
   ]
  },
  {
   "cell_type": "code",
   "execution_count": 168,
   "metadata": {},
   "outputs": [
    {
     "name": "stdout",
     "output_type": "stream",
     "text": [
      "['Sports', 'Platform', 'Racing', 'Role-Playing', 'Puzzle', 'Misc', 'Shooter', 'Simulation', 'Action', 'Fighting', 'Adventure']\n"
     ]
    }
   ],
   "source": [
    "temp = []\n",
    "for f in VgsaleSubset:\n",
    "    temp.append(f.Genre)\n",
    "VgGenre = []\n",
    "for t in temp:\n",
    "    if t not in VgGenre:\n",
    "        VgGenre.append(t) \n",
    "print(VgGenre)"
   ]
  },
  {
   "cell_type": "code",
   "execution_count": 169,
   "metadata": {},
   "outputs": [],
   "source": [
    "for f in VgsaleSubset:\n",
    "    VgsaleGraph.add_node(f.label, label= f.label, size=20)\n",
    "    #nx_graph.add_node(25, size=25, label='lonely', title='lonely node', group=3)"
   ]
  },
  {
   "cell_type": "code",
   "execution_count": 182,
   "metadata": {},
   "outputs": [],
   "source": [
    "for f1 in VgsaleSubset:\n",
    "    for f2 in VgsaleSubset:\n",
    "        if not f1 == f2:\n",
    "            if f1.Genre == f2.Genre:\n",
    "                VgsaleGraph.add_edge(f1.label,f2.label,value= 5,color='turquoise')\n",
    "            if f1.Platform == f2.Platform:\n",
    "                VgsaleGraph.add_edge(f1.label,f2.label,value = 5,color='pink')\n",
    "   "
   ]
  },
  {
   "cell_type": "code",
   "execution_count": 183,
   "metadata": {},
   "outputs": [
    {
     "name": "stdout",
     "output_type": "stream",
     "text": [
      "{'Wii Sports Wii': 0.4166666666666667, 'Super Mario Bros. NES': 0.3939393939393939, 'Mario Kart Wii Wii': 0.44696969696969696, 'Wii Sports Resort Wii': 0.4166666666666667, 'Pokemon Red/Pokemon Blue GB': 0.4166666666666667, 'Tetris GB': 0.3939393939393939, 'New Super Mario Bros. DS': 0.3939393939393939, 'Wii Play Wii': 0.42424242424242425, 'New Super Mario Bros. Wii Wii': 0.4166666666666667, 'Duck Hunt NES': 0.5378787878787878, 'Nintendogs DS': 0.3939393939393939, 'Mario Kart DS DS': 0.42424242424242425, 'Pokemon Gold/Pokemon Silver GB': 0.4166666666666667, 'Wii Fit Wii': 0.4166666666666667, 'Wii Fit Plus Wii': 0.4166666666666667, 'Kinect Adventures! X360': 0.17424242424242425, 'Grand Theft Auto V PS3': 0.12878787878787878, 'Grand Theft Auto: San Andreas PS2': 0.10606060606060606, 'Super Mario World SNES': 0.3939393939393939, 'Brain Age: Train Your Brain in Minutes a Day DS': 0.4166666666666667, 'Pokemon Diamond/Pokemon Pearl DS': 0.4166666666666667, 'Super Mario Land GB': 0.3939393939393939, 'Super Mario Bros. 3 NES': 0.3939393939393939, 'Grand Theft Auto V X360': 0.1893939393939394, 'Grand Theft Auto: Vice City PS2': 0.10606060606060606, 'Pokemon Ruby/Pokemon Sapphire GBA': 0.4166666666666667, 'Pokemon Black/Pokemon White DS': 0.4166666666666667, 'Brain Age 2: More Training in Minutes a Day DS': 0.3939393939393939, 'Gran Turismo 3: A-Spec PS2': 0.11363636363636365, 'Call of Duty: Modern Warfare 3 X360': 0.19696969696969696, 'Pok茅mon Yellow: Special Pikachu Edition GB': 0.4166666666666667, 'Call of Duty: Black Ops X360': 0.19696969696969696, 'Pokemon X/Pokemon Y 3DS': 0.4166666666666667, 'Call of Duty: Black Ops 3 PS4': 0.17424242424242425, 'Call of Duty: Black Ops II PS3': 0.1893939393939394, 'Call of Duty: Black Ops II X360': 0.19696969696969696, 'Call of Duty: Modern Warfare 2 X360': 0.19696969696969696, 'Call of Duty: Modern Warfare 3 PS3': 0.1893939393939394, 'Grand Theft Auto III PS2': 0.10606060606060606, 'Super Smash Bros. Brawl Wii': 0.4090909090909091, 'Call of Duty: Black Ops PS3': 0.1893939393939394, 'Animal Crossing: Wild World DS': 0.3939393939393939, 'Mario Kart 7 3DS': 0.42424242424242425, 'Halo 3 X360': 0.19696969696969696, 'Grand Theft Auto V PS4': 0.11363636363636365, 'Pokemon HeartGold/Pokemon SoulSilver DS': 0.46212121212121215, 'Super Mario 64 N64': 0.3939393939393939, 'Gran Turismo 4 PS2': 0.11363636363636365, 'Super Mario Galaxy Wii': 0.4166666666666667, 'Pokemon Omega Ruby/Pokemon Alpha Sapphire 3DS': 0.4166666666666667, 'Super Mario Land 2: 6 Golden Coins GB': 0.38636363636363635, 'Grand Theft Auto IV X360': 0.1893939393939394, 'Gran Turismo PS': 0.09848484848484848, 'Super Mario 3D Land 3DS': 0.3939393939393939, 'Gran Turismo 5 PS3': 0.15151515151515152, 'Call of Duty: Modern Warfare 2 PS3': 0.1893939393939394, 'Grand Theft Auto IV PS3': 0.12878787878787878, 'Super Mario All-Stars SNES': 0.3939393939393939, 'Pokemon FireRed/Pokemon LeafGreen GBA': 0.4166666666666667, 'Super Mario 64 DS': 0.3939393939393939, 'Just Dance 3 Wii': 0.13636363636363635, 'Call of Duty: Ghosts X360': 0.19696969696969696, 'Halo: Reach X360': 0.19696969696969696, 'Mario Kart 64 N64': 0.42424242424242425, 'New Super Mario Bros. 2 3DS': 0.3939393939393939, 'Halo 4 X360': 0.19696969696969696, 'Final Fantasy VII PS': 0.15151515151515152, 'Call of Duty: Ghosts PS3': 0.1893939393939394, 'Just Dance 2 Wii': 0.13636363636363635, 'Gran Turismo 2 PS': 0.09848484848484848, 'Call of Duty 4: Modern Warfare X360': 0.19696969696969696, 'Donkey Kong Country SNES': 0.3939393939393939, 'Minecraft X360': 0.17424242424242425, 'Animal Crossing: New Leaf 3DS': 0.3939393939393939, 'Mario Party DS DS': 0.4166666666666667, 'The Elder Scrolls V: Skyrim X360': 0.2196969696969697, 'Super Mario Kart SNES': 0.42424242424242425, 'FIFA 16 PS4': 0.09090909090909091, 'Wii Party Wii': 0.42424242424242425, 'Halo 2 XB': 0.17424242424242425, 'Mario Party 8 Wii': 0.42424242424242425, 'Pokemon Black 2/Pokemon White 2 DS': 0.4166666666666667, 'FIFA Soccer 13 PS3': 0.1590909090909091, 'The Sims 3 PC': 0.05303030303030303, 'GoldenEye 007 N64': 0.5378787878787878, 'Mario & Sonic at the Olympic Games Wii': 0.11363636363636365, 'Final Fantasy X PS2': 0.17424242424242425, 'Final Fantasy VIII PS': 0.12878787878787878, 'Pok茅mon Platinum Version DS': 0.4166666666666667, 'Pac-Man 2600': 0.015151515151515152, 'Grand Theft Auto: Liberty City Stories PSP': 0.08333333333333334, 'Super Mario Galaxy 2 Wii': 0.4166666666666667, 'Star Wars Battlefront (2015) PS4': 0.1893939393939394, 'Call of Duty: Advanced Warfare PS4': 0.17424242424242425, 'The Legend of Zelda: Ocarina of Time N64': 0.46212121212121215, 'Crash Bandicoot 2: Cortex Strikes Back PS': 0.17424242424242425, 'Super Mario Bros. 2 NES': 0.3939393939393939, 'Super Smash Bros. for Wii U and 3DS 3DS': 0.38636363636363635, 'Call of Duty: World at War X360': 0.19696969696969696, 'Battlefield 3 X360': 0.2196969696969697, 'Nintendo': 0.030303030303030304, 'Sports': 0.015151515151515152, 'Ubisoft': 0.030303030303030304, 'Sega': 0.015151515151515152, 'Platform': 0.015151515151515152, 'Racing': 0.015151515151515152, 'Role-Playing': 0.015151515151515152, 'Puzzle': 0.015151515151515152, 'Misc': 0.015151515151515152, 'Shooter': 0.015151515151515152, 'Simulation': 0.015151515151515152, 'Microsoft Game Studios': 0.045454545454545456, 'Take-Two Interactive': 0.05303030303030303, 'Activision': 0.05303030303030303, 'Bethesda Softworks': 0.030303030303030304, 'Electronic Arts': 0.05303030303030303, 'Action': 0.015151515151515152, 'Sony Computer Entertainment': 0.045454545454545456, 'Fighting': 0.015151515151515152, 'SquareSoft': 0.007575757575757576, 'Wii': 0.015151515151515152, 'NES': 0.015151515151515152, 'GB': 0.015151515151515152, 'DS': 0.015151515151515152, 'X360': 0.015151515151515152, 'PS3': 0.015151515151515152, 'PS2': 0.015151515151515152, 'SNES': 0.015151515151515152, 'GBA': 0.015151515151515152, '3DS': 0.015151515151515152, 'PS4': 0.015151515151515152, 'N64': 0.015151515151515152, 'PS': 0.015151515151515152}\n"
     ]
    }
   ],
   "source": [
    "centrality = nx.degree_centrality(VgsaleGraph)\n",
    "print(centrality)"
   ]
  },
  {
   "cell_type": "code",
   "execution_count": 184,
   "metadata": {},
   "outputs": [],
   "source": [
    "for f in VgsaleSubset:\n",
    "    VgsaleGraph.add_node(f.label, label = f.label, size = centrality[f.label]*250, color = '#b1d1fc')\n",
    "for f1 in VgsaleSubset:\n",
    "    for f2 in VgsaleSubset:\n",
    "        if not f1 == f2:\n",
    "            if f1.Name == f2.Global_Sales:\n",
    "                VgsaleGraph.add_edge(f1.Name, f2.Global_Sales, value = centrality[f2.Global_Sales]*180, color = 'orange')"
   ]
  },
  {
   "cell_type": "code",
   "execution_count": 185,
   "metadata": {},
   "outputs": [],
   "source": [
    "#for f in VgsaleSubset:\n",
    "#    if int(f.Global_Sales)<10.00:\n",
    "#        VgsaleGraph.add_node(f.label,label = f.label,size=10,color='yellow')\n",
    "#    elif int(f.Global_Sales)>=10.00 and int(f.Global_Sales)<=25.00:\n",
    "#        VgsaleGraph.add_node(f.label,label = f.label,size=20,color='blue')\n",
    "#    elif int(f.Global_Sales)>25.00:\n",
    "#        VgsaleGraph.add_node(f.label,label = f.label,size=40,color='green')"
   ]
  },
  {
   "cell_type": "code",
   "execution_count": 186,
   "metadata": {},
   "outputs": [],
   "source": [
    "for f1 in VgsaleSubset:\n",
    "    for f2 in VgsaleSubset:\n",
    "        if not f1 == f2:\n",
    "            if f1.Genre == f2.Genre:\n",
    "                VgsaleGraph.add_edge(f1.Genre,f2.Genre,value=6,color='turquoise')\n",
    "            if f1.Platform == f2.Platform:\n",
    "                VgsaleGraph.add_edge(f1.Platform,f2.Platform,value = 6,color='pink')\n"
   ]
  },
  {
   "cell_type": "code",
   "execution_count": 188,
   "metadata": {},
   "outputs": [],
   "source": [
    "nt = Network('800px', '800px')\n",
    "nt.barnes_hut()\n",
    "nt.show_buttons(filter_=['physics'])\n",
    "nt.from_nx(VgsaleGraph)\n",
    "nt.show('nx1.html')"
   ]
  },
  {
   "cell_type": "markdown",
   "metadata": {},
   "source": [
    "This graph shows the connections between genre and platform of the video games. The size of nodes satisfying the same genre and from the same publisher will be larger, otherwise the nodes will be smaller."
   ]
  }
 ],
 "metadata": {
  "kernelspec": {
   "display_name": "Python 3",
   "language": "python",
   "name": "python3"
  },
  "language_info": {
   "codemirror_mode": {
    "name": "ipython",
    "version": 3
   },
   "file_extension": ".py",
   "mimetype": "text/x-python",
   "name": "python",
   "nbconvert_exporter": "python",
   "pygments_lexer": "ipython3",
   "version": "3.8.8"
  }
 },
 "nbformat": 4,
 "nbformat_minor": 4
}

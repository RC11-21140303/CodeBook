{
 "cells": [
  {
   "cell_type": "code",
   "execution_count": 1,
   "id": "8ec2904b",
   "metadata": {},
   "outputs": [
    {
     "name": "stdout",
     "output_type": "stream",
     "text": [
      "Requirement already satisfied: simpy in c:\\users\\wmm\\anaconda3\\lib\\site-packages (4.0.1)\n"
     ]
    }
   ],
   "source": [
    "! pip install simpy"
   ]
  },
  {
   "cell_type": "code",
   "execution_count": 2,
   "id": "63996870",
   "metadata": {},
   "outputs": [],
   "source": [
    "import random\n",
    "import simpy"
   ]
  },
  {
   "cell_type": "code",
   "execution_count": 3,
   "id": "ad7d91fa",
   "metadata": {},
   "outputs": [],
   "source": [
    "RANDOM_SEED = 0         \n",
    "NUM_COUNTERS = 3        \n",
    "TIME_CONSUMING = 5      \n",
    "TIME_INTERVAL = 5       \n",
    "SIM_TIME = 100        \n",
    "CLIENT_NUMBER = 2 "
   ]
  },
  {
   "cell_type": "code",
   "execution_count": 12,
   "id": "1fcae141",
   "metadata": {},
   "outputs": [],
   "source": [
    "class Hotel(object):\n",
    "\n",
    "    def __init__(self, env, num_counters, checkintime):\n",
    "        self.env = env\n",
    "        self.counters = simpy.Resource(env, num_counters)\n",
    "        self.checkintime = checkintime\n",
    "        self.allClient = 0\n",
    "        self.accomplishClient = 0\n",
    " \n",
    "    def checkin(self, people):\n",
    "             \n",
    "        yield self.env.timeout(random.randint(3, 10))  \n",
    "        self.allClient += 1\n",
    "        per = random.randint(50, 99)\n",
    "        print(\"%s's The completion of task：%d%%.\" % (people, per))\n",
    "        \n",
    "        if per > 80:\n",
    "            self.accomplishClient += 1\n",
    " \n",
    "        print(\"Number of clients served by counters：%d, \"\n",
    "              \"Hotel service compliance rate：%.2f。\" % (self.allClient, float(self.accomplishClient) / float(self.allClient)))\n",
    "    \n",
    "        print(f'-----------------------------------------------------------------------------')\n",
    "    "
   ]
  },
  {
   "cell_type": "code",
   "execution_count": 13,
   "id": "1bc5d055",
   "metadata": {},
   "outputs": [],
   "source": [
    "def Client(env, name, cw):\n",
    " \n",
    "    print('%s Arriving at the hotel at %.2f.' % (name, env.now))\n",
    "    with cw.counters.request() as request:\n",
    "        yield request\n",
    "        print('%s Check in at %.2f.' % (name, env.now))\n",
    "        yield env.process(cw.checkin(name))\n",
    "        print('%s Leaving the hotel at %.2f.' % (name, env.now))\n",
    "        "
   ]
  },
  {
   "cell_type": "code",
   "execution_count": 14,
   "id": "560721ff",
   "metadata": {},
   "outputs": [],
   "source": [
    "def setup(env, num_counters, checkintime, t_inter, clientNumber):\n",
    "   \n",
    "    hotel = Hotel(env, num_counters, checkintime)\n",
    "  \n",
    "    for i in range(clientNumber):\n",
    "        env.process(Client(env, 'Client_%d' % i, hotel))\n",
    " \n",
    "    while True:\n",
    "        yield env.timeout(random.randint(t_inter - 2, t_inter + 3))\n",
    "        i += 1\n",
    "        env.process(Client(env, 'Client_%d' % i, hotel))\n",
    " "
   ]
  },
  {
   "cell_type": "code",
   "execution_count": 15,
   "id": "9e172cea",
   "metadata": {
    "scrolled": true
   },
   "outputs": [
    {
     "name": "stdout",
     "output_type": "stream",
     "text": [
      "Start simulation!\n",
      "Client_0 Arriving at the hotel at 0.00.\n",
      "Client_1 Arriving at the hotel at 0.00.\n",
      "Client_0 Check in at 0.00.\n",
      "Client_1 Check in at 0.00.\n",
      "Client_2 Arriving at the hotel at 3.00.\n",
      "Client_2 Check in at 3.00.\n",
      "Client_1's The completion of task：75%.\n",
      "Number of clients served by counters：1, Hotel service compliance rate：0.00。\n",
      "-----------------------------------------------------------------------------\n",
      "Client_1 Leaving the hotel at 6.00.\n",
      "Client_0's The completion of task：56%.\n",
      "Number of clients served by counters：2, Hotel service compliance rate：0.00。\n",
      "-----------------------------------------------------------------------------\n",
      "Client_0 Leaving the hotel at 7.00.\n",
      "Client_2's The completion of task：87%.\n",
      "Number of clients served by counters：3, Hotel service compliance rate：0.33。\n",
      "-----------------------------------------------------------------------------\n",
      "Client_2 Leaving the hotel at 10.00.\n",
      "Client_3 Arriving at the hotel at 11.00.\n",
      "Client_3 Check in at 11.00.\n",
      "Client_4 Arriving at the hotel at 17.00.\n",
      "Client_4 Check in at 17.00.\n",
      "Client_3's The completion of task：77%.\n",
      "Number of clients served by counters：4, Hotel service compliance rate：0.25。\n",
      "-----------------------------------------------------------------------------\n",
      "Client_3 Leaving the hotel at 20.00.\n",
      "Client_4's The completion of task：76%.\n",
      "Number of clients served by counters：5, Hotel service compliance rate：0.20。\n",
      "-----------------------------------------------------------------------------\n",
      "Client_4 Leaving the hotel at 21.00.\n",
      "Client_5 Arriving at the hotel at 25.00.\n",
      "Client_5 Check in at 25.00.\n",
      "Client_6 Arriving at the hotel at 29.00.\n",
      "Client_6 Check in at 29.00.\n",
      "Client_5's The completion of task：52%.\n",
      "Number of clients served by counters：6, Hotel service compliance rate：0.17。\n",
      "-----------------------------------------------------------------------------\n",
      "Client_5 Leaving the hotel at 30.00.\n",
      "Client_7 Arriving at the hotel at 32.00.\n",
      "Client_7 Check in at 32.00.\n",
      "Client_8 Arriving at the hotel at 35.00.\n",
      "Client_8 Check in at 35.00.\n",
      "Client_6's The completion of task：52%.\n",
      "Number of clients served by counters：7, Hotel service compliance rate：0.14。\n",
      "-----------------------------------------------------------------------------\n",
      "Client_6 Leaving the hotel at 36.00.\n",
      "Client_7's The completion of task：73%.\n",
      "Number of clients served by counters：8, Hotel service compliance rate：0.12。\n",
      "-----------------------------------------------------------------------------\n",
      "Client_7 Leaving the hotel at 41.00.\n",
      "Client_9 Arriving at the hotel at 42.00.\n",
      "Client_9 Check in at 42.00.\n",
      "Client_8's The completion of task：99%.\n",
      "Number of clients served by counters：9, Hotel service compliance rate：0.22。\n",
      "-----------------------------------------------------------------------------\n",
      "Client_8 Leaving the hotel at 45.00.\n",
      "Client_10 Arriving at the hotel at 46.00.\n",
      "Client_10 Check in at 46.00.\n",
      "Client_11 Arriving at the hotel at 49.00.\n",
      "Client_11 Check in at 49.00.\n",
      "Client_9's The completion of task：98%.\n",
      "Number of clients served by counters：10, Hotel service compliance rate：0.30。\n",
      "-----------------------------------------------------------------------------\n",
      "Client_9 Leaving the hotel at 51.00.\n",
      "Client_11's The completion of task：83%.\n",
      "Number of clients served by counters：11, Hotel service compliance rate：0.36。\n",
      "-----------------------------------------------------------------------------\n",
      "Client_11 Leaving the hotel at 53.00.\n",
      "Client_10's The completion of task：86%.\n",
      "Number of clients served by counters：12, Hotel service compliance rate：0.42。\n",
      "-----------------------------------------------------------------------------\n",
      "Client_10 Leaving the hotel at 54.00.\n",
      "Client_12 Arriving at the hotel at 55.00.\n",
      "Client_12 Check in at 55.00.\n",
      "Client_12's The completion of task：94%.\n",
      "Number of clients served by counters：13, Hotel service compliance rate：0.46。\n",
      "-----------------------------------------------------------------------------\n",
      "Client_12 Leaving the hotel at 60.00.\n",
      "Client_13 Arriving at the hotel at 61.00.\n",
      "Client_13 Check in at 61.00.\n",
      "Client_13's The completion of task：81%.\n",
      "Number of clients served by counters：14, Hotel service compliance rate：0.50。\n",
      "-----------------------------------------------------------------------------\n",
      "Client_13 Leaving the hotel at 65.00.\n",
      "Client_14 Arriving at the hotel at 69.00.\n",
      "Client_14 Check in at 69.00.\n",
      "Client_15 Arriving at the hotel at 72.00.\n",
      "Client_15 Check in at 72.00.\n",
      "Client_14's The completion of task：70%.\n",
      "Number of clients served by counters：15, Hotel service compliance rate：0.47。\n",
      "-----------------------------------------------------------------------------\n",
      "Client_14 Leaving the hotel at 73.00.\n",
      "Client_16 Arriving at the hotel at 75.00.\n",
      "Client_16 Check in at 75.00.\n",
      "Client_15's The completion of task：77%.\n",
      "Number of clients served by counters：16, Hotel service compliance rate：0.44。\n",
      "-----------------------------------------------------------------------------\n",
      "Client_15 Leaving the hotel at 77.00.\n",
      "Client_17 Arriving at the hotel at 79.00.\n",
      "Client_17 Check in at 79.00.\n",
      "Client_16's The completion of task：55%.\n",
      "Number of clients served by counters：17, Hotel service compliance rate：0.41。\n",
      "-----------------------------------------------------------------------------\n",
      "Client_16 Leaving the hotel at 81.00.\n",
      "Client_18 Arriving at the hotel at 82.00.\n",
      "Client_18 Check in at 82.00.\n",
      "Client_18's The completion of task：78%.\n",
      "Number of clients served by counters：18, Hotel service compliance rate：0.39。\n",
      "-----------------------------------------------------------------------------\n",
      "Client_18 Leaving the hotel at 85.00.\n",
      "Client_17's The completion of task：50%.\n",
      "Number of clients served by counters：19, Hotel service compliance rate：0.37。\n",
      "-----------------------------------------------------------------------------\n",
      "Client_19 Arriving at the hotel at 89.00.\n",
      "Client_17 Leaving the hotel at 89.00.\n",
      "Client_19 Check in at 89.00.\n",
      "Client_20 Arriving at the hotel at 94.00.\n",
      "Client_20 Check in at 94.00.\n",
      "Client_19's The completion of task：56%.\n",
      "Number of clients served by counters：20, Hotel service compliance rate：0.35。\n",
      "-----------------------------------------------------------------------------\n",
      "Client_21 Arriving at the hotel at 97.00.\n",
      "Client_19 Leaving the hotel at 97.00.\n",
      "Client_21 Check in at 97.00.\n",
      "Client_20's The completion of task：57%.\n",
      "Number of clients served by counters：21, Hotel service compliance rate：0.33。\n",
      "-----------------------------------------------------------------------------\n",
      "Client_20 Leaving the hotel at 98.00.\n"
     ]
    }
   ],
   "source": [
    "print('Start simulation!')\n",
    " \n",
    "random.seed()\n",
    "\n",
    "\n",
    "\n",
    "env = simpy.Environment()\n",
    "env.process(setup(env, NUM_COUNTERS, TIME_CONSUMING, TIME_INTERVAL, CLIENT_NUMBER))\n",
    "\n",
    "env.run(until=SIM_TIME)"
   ]
  },
  {
   "cell_type": "markdown",
   "id": "430803bb",
   "metadata": {},
   "source": [
    "Within the specified time, this simulates the process of how many clients can check in according to the number of staff provided by the hotel. In addition, each client will give a score to the staff. Therefore, this simulation requires real-time statistics to calculate the task completion and service compliance rate.\n"
   ]
  },
  {
   "cell_type": "markdown",
   "id": "311b4bf5",
   "metadata": {},
   "source": [
    "1.The number of counter staff is limited, but the check-in time for each client is different.\\\n",
    "2.When the client arrives at the hotel, if there is a free counter staff, it will immediately accept the service; if not, it will wait until the other counter staff is free. \n",
    "3.The interval time for each guest to the hotel is random. "
   ]
  },
  {
   "cell_type": "code",
   "execution_count": null,
   "id": "7b5b3a53",
   "metadata": {},
   "outputs": [],
   "source": []
  }
 ],
 "metadata": {
  "kernelspec": {
   "display_name": "Python 3",
   "language": "python",
   "name": "python3"
  },
  "language_info": {
   "codemirror_mode": {
    "name": "ipython",
    "version": 3
   },
   "file_extension": ".py",
   "mimetype": "text/x-python",
   "name": "python",
   "nbconvert_exporter": "python",
   "pygments_lexer": "ipython3",
   "version": "3.8.8"
  }
 },
 "nbformat": 4,
 "nbformat_minor": 5
}

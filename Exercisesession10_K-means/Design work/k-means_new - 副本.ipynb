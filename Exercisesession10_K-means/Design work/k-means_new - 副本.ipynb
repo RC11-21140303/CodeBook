{
 "cells": [
  {
   "cell_type": "code",
   "execution_count": 1,
   "metadata": {},
   "outputs": [],
   "source": [
    "from numpy import unique\n",
    "from numpy import where\n",
    "from sklearn.datasets import make_classification\n",
    "from matplotlib import pyplot\n",
    "# k-means clustering\n",
    "from sklearn.cluster import KMeans\n",
    "import pandas as pd\n",
    "import csv\n",
    "import numpy as np\n",
    "\n",
    "import math\n",
    "from scipy.spatial import Delaunay\n",
    "import matplotlib.pyplot as plt\n"
   ]
  },
  {
   "cell_type": "code",
   "execution_count": 2,
   "metadata": {},
   "outputs": [
    {
     "name": "stdout",
     "output_type": "stream",
     "text": [
      "27510\n"
     ]
    }
   ],
   "source": [
    "class Unit:\n",
    "    def __init__(self, unit,x,y,food,frozen_food,office_supplies,furniture,daily_necessities):\n",
    "        self.unit=unit\n",
    "        self.x=x\n",
    "        self.y=y\n",
    "        self.food=food\n",
    "        self.frozen_food=frozen_food\n",
    "        self.office_supplies=office_supplies\n",
    "        self.furniture=furniture\n",
    "        self.daily_necessities=daily_necessities\n",
    "\n",
    "units = []\n",
    "with open(\"neo result.csv\") as csvfile:\n",
    "    reader = csv.DictReader(csvfile)\n",
    "    for row in reader:\n",
    "        unit = row['unit']\n",
    "        x=row['x']\n",
    "        y=row['y']\n",
    "        food=row['food']\n",
    "        frozen_food = row['frozen food']\n",
    "        office_supplies=row['office supplies']\n",
    "        furniture=row['furniture']\n",
    "        daily_necessities=row['daily necessities']\n",
    "        units.append(Unit(unit,x,y,food,frozen_food,office_supplies,furniture,daily_necessities))\n",
    "print(len(units))"
   ]
  },
  {
   "cell_type": "code",
   "execution_count": 3,
   "metadata": {},
   "outputs": [
    {
     "name": "stdout",
     "output_type": "stream",
     "text": [
      "4262\n",
      "76 13\n",
      "77 13\n",
      "62 14\n",
      "76 14\n",
      "77 14\n",
      "78 14\n",
      "79 14\n",
      "108 14\n",
      "62 15\n",
      "63 15\n"
     ]
    }
   ],
   "source": [
    "neounits=[]\n",
    "for u in units:\n",
    "    if not (float(u.food)==0 and float(u.frozen_food)==0 and float(u.office_supplies)==0 and float(u.furniture)==0 and float(u.daily_necessities)==0):\n",
    "        neounits.append(u)\n",
    "X=[]\n",
    "Y=[]\n",
    "for u in neounits:\n",
    "    X.append(u.x)\n",
    "    Y.append(u.y)\n",
    "\n",
    "print(len(neounits))\n",
    "for u in neounits[0:10]:\n",
    "    print(u.x+' '+u.y)"
   ]
  },
  {
   "cell_type": "code",
   "execution_count": 4,
   "metadata": {},
   "outputs": [],
   "source": [
    "\n",
    "\n",
    "df=pd.DataFrame({'x':X,'y':Y})\n",
    "\n",
    "df.to_csv('neo location.csv',index=False)\n"
   ]
  },
  {
   "cell_type": "code",
   "execution_count": 5,
   "metadata": {},
   "outputs": [],
   "source": [
    "# define the dataset\n",
    "file = pd.read_csv( 'neo location.csv')\n",
    "x_y = np.array(file)  \n"
   ]
  },
  {
   "cell_type": "code",
   "execution_count": 6,
   "metadata": {},
   "outputs": [],
   "source": [
    "class Color:\n",
    "    def __init__(self, name,color):\n",
    "        self.unit=name\n",
    "        self.color=color\n"
   ]
  },
  {
   "cell_type": "code",
   "execution_count": 7,
   "metadata": {},
   "outputs": [],
   "source": [
    "colors = []\n",
    "with open(\"color.csv\") as csvfile:\n",
    "    reader = csv.DictReader(csvfile)\n",
    "    for row in reader:\n",
    "        name = row['name']\n",
    "        color= row['color']\n",
    "        colors.append(Color(name,color))"
   ]
  },
  {
   "cell_type": "code",
   "execution_count": 8,
   "metadata": {},
   "outputs": [],
   "source": [
    "from random import shuffle\n",
    "from random import sample\n",
    "shuffle(colors)"
   ]
  },
  {
   "cell_type": "code",
   "execution_count": 9,
   "metadata": {},
   "outputs": [],
   "source": [
    "colorbox=[]\n",
    "colorname=[]\n",
    "for c in colors:\n",
    "    colorname.append(c.unit)\n",
    "    colorbox.append(c.color)\n"
   ]
  },
  {
   "cell_type": "code",
   "execution_count": 10,
   "metadata": {},
   "outputs": [],
   "source": [
    "from pandas import DataFrame\n",
    "df=DataFrame({'name':colorname,'color':colorbox})\n",
    "df.to_csv('neo color box.csv',index=False)"
   ]
  },
  {
   "cell_type": "code",
   "execution_count": 11,
   "metadata": {},
   "outputs": [],
   "source": [
    "# define the model\n",
    "n=14\n",
    "model = KMeans(n_clusters=n)\n",
    "# fit the model\n",
    "model.fit(file)\n",
    "# assign a cluster to each example\n",
    "yhat = model.predict(file)\n",
    "# retrieve unique clusters\n",
    "clusters = unique(yhat)"
   ]
  },
  {
   "cell_type": "code",
   "execution_count": 21,
   "metadata": {},
   "outputs": [
    {
     "data": {
      "text/plain": "<Figure size 15120x9360 with 0 Axes>"
     },
     "metadata": {},
     "output_type": "display_data"
    }
   ],
   "source": [
    "#pointsdistance = []\n",
    "\n",
    "for i in range(20):\n",
    "\n",
    "    # define the model\n",
    "    n=i + 1\n",
    "    model = KMeans(n_clusters=n)\n",
    "    # fit the model\n",
    "    model.fit(file)\n",
    "    # assign a cluster to each example\n",
    "    yhat = model.predict(file)\n",
    "    # retrieve unique clusters\n",
    "    clusters = unique(yhat)\n",
    "\n",
    "    # define the model\n",
    "    #n= i\n",
    "    model = KMeans(n_clusters=n)\n",
    "    # fit the model\n",
    "    model.fit(file)\n",
    "    # assign a cluster to each example\n",
    "    yhat = model.predict(file)\n",
    "    # retrieve unique clusters\n",
    "    clusters = unique(yhat)\n",
    "\n",
    "    ax = pyplot.gca()                                 #获取到当前坐标轴信息\n",
    "    ax.xaxis.set_ticks_position('top')   #将X坐标轴移到上面\n",
    "    ax.invert_yaxis()                            #反转Y坐标轴\n",
    "\n",
    "    # create scatter plot for samples from each cluster\n",
    "    for cluster,c in zip(clusters,colorbox[0:n]):\n",
    "        # get row indexes for samples with this cluster\n",
    "        row_ix = where(yhat == cluster)\n",
    "        # create scatter of these samples\n",
    "        pyplot.scatter(x_y[row_ix, 0], x_y[row_ix, 1],marker='s',color=c,s=1600)\n",
    "\n",
    "    font={'color':'black','size':120,'family':'arial'}\n",
    "\n",
    "    centralpoints = []\n",
    "\n",
    "    centroids = model.cluster_centers_ #获取聚类中心\n",
    "    for c in centroids:\n",
    "        centralxy = []\n",
    "        pyplot.scatter(c[0],c[1],color='blue',s=20000)\n",
    "        c0=format(float(c[0]),'.2f')\n",
    "        c1=format(float(c[1]),'.2f')\n",
    "        pyplot.text(c[0],c[1],'{0},{1}'.format(c0,c1),fontdict=font)\n",
    "        #centralxy.append(float(c0))\n",
    "        #centralxy.append(float(c1))\n",
    "        #centralpoints.append(centralxy)\n",
    "\n",
    "        #distance = 0\n",
    "        #for d1 in centralpoints:\n",
    "        #    for d2 in centralpoints:\n",
    "        #        if not d1 == d2:\n",
    "        #            temp = math.pow((d1[0] - d2[0]),2) + math.pow((d1[1] - d2[1]),2)\n",
    "        #            distance = distance + temp\n",
    "\n",
    "    # Triangulation of a set of points:\n",
    "    #points = np.array(centralpoints) # 定义三角点\n",
    "\n",
    "    #tri = Delaunay(points) # 三角剖分\n",
    "\n",
    "    # We can plot it:\n",
    "    #plt.triplot(points[:,0], points[:,1], tri.simplices.copy())\n",
    "    #plt.plot(points[:,0], points[:,1], 'bo', linewidth=200, markersize=20)\n",
    "\n",
    "    # show the plot\n",
    "    #pyplot.title(\"K-means result No.{0} (clusters={1}, distance sum={2})\".format(i,n,distance**0.5), fontsize=120)\n",
    "    pyplot.title(\"K-means result No.{0} (clusters={1})\".format(i,n), fontsize=120)\n",
    "\n",
    "    #plt.figure(figsize=(1000, height), dpi=dpi)\n",
    "    pyplot.rcParams['figure.figsize'] = (210, 130)\n",
    "    pyplot.savefig('k-means/{0}.png'.format(i))\n",
    "    plt.clf()\n",
    "\n",
    "    #pointsdistance.append(distance)"
   ]
  },
  {
   "cell_type": "code",
   "execution_count": 24,
   "outputs": [],
   "source": [],
   "metadata": {
    "collapsed": false,
    "pycharm": {
     "name": "#%%\n"
    }
   }
  },
  {
   "cell_type": "code",
   "execution_count": 23,
   "outputs": [
    {
     "name": "stdout",
     "output_type": "stream",
     "text": [
      "[1096165.7978000003, 1105861.3522000003, 1106553.796, 1108820.5039999997, 1108836.1343999996, 1108989.214399999, 1109483.9553999996, 1109695.5953999993, 1109695.5953999998, 1109779.8514, 1110051.9184000003, 1110051.9184000005, 1110629.1115999995, 1110752.5154000001, 1110789.1596000001, 1111019.4050000005, 1111524.4866, 1111806.7059999995, 1112444.6559999997, 1112745.4121999994, 1113193.0682, 1113230.6954, 1113372.4472000003, 1113521.8988000003, 1113876.5066000002, 1113935.5328000002, 1114625.0215999996, 1114637.4943999995, 1114637.4944000002, 1114637.4944000007, 1114789.8722000006, 1117571.6839999987, 1117898.5193999999, 1118059.3555999997, 1118471.1979999996, 1118825.1640000006, 1119593.5858, 1119691.0844000012, 1119890.3867999997, 1119890.3867999997, 1120012.4866000002, 1120012.4866000004, 1120036.1888000004, 1120124.1195999996, 1120171.9108000002, 1120450.6496, 1120902.4944000011, 1122857.6402000005, 1123023.9611999998, 1123842.7247999997, 1124082.5257999997, 1124169.655399999, 1124186.2386000005, 1124231.3034000003, 1124425.7652, 1124484.8315999997, 1124532.3794, 1124597.8554000005, 1124699.6788000006, 1124986.0866000003, 1126585.0378, 1127062.7250000006, 1127228.7258, 1127588.9074000004, 1128263.395399999, 1128319.3689999992, 1128319.3689999992, 1128547.7339999997, 1128547.734, 1129031.3827999998, 1129131.1300000004, 1129745.5473999996, 1129814.5584000002, 1130136.7737999994, 1130581.6328000003, 1130670.4327999996, 1130774.7898, 1130819.5015999994, 1130947.2185999996, 1131175.2391999997, 1131476.4236000006, 1131593.906, 1131734.8736000005, 1131776.7568000013, 1131830.1697999998, 1131853.4100000001, 1131869.2499999998, 1132125.0820000004, 1132168.0386, 1132320.5312, 1132582.732999999, 1132669.3362000005, 1132974.8106000002, 1133257.9232, 1133570.5298, 1134294.5524, 1134303.5721999994, 1134955.8540000012, 1135078.7460000003, 1146350.7954000006]\n",
      "1096165.7978000003\n",
      "84\n"
     ]
    }
   ],
   "source": [
    "pointsdistance_temp = []\n",
    "for i in pointsdistance:\n",
    "    pointsdistance_temp.append(i)\n",
    "pointsdistance_temp.sort()\n",
    "print(pointsdistance_temp)\n",
    "print(pointsdistance_temp[0])\n",
    "print(pointsdistance.index(pointsdistance_temp[0]))"
   ],
   "metadata": {
    "collapsed": false,
    "pycharm": {
     "name": "#%%\n"
    }
   }
  },
  {
   "cell_type": "code",
   "execution_count": null,
   "outputs": [],
   "source": [],
   "metadata": {
    "collapsed": false,
    "pycharm": {
     "name": "#%%\n"
    }
   }
  }
 ],
 "metadata": {
  "kernelspec": {
   "display_name": "Python 3",
   "language": "python",
   "name": "python3"
  },
  "language_info": {
   "codemirror_mode": {
    "name": "ipython",
    "version": 3
   },
   "file_extension": ".py",
   "mimetype": "text/x-python",
   "name": "python",
   "nbconvert_exporter": "python",
   "pygments_lexer": "ipython3",
   "version": "3.9.5"
  }
 },
 "nbformat": 4,
 "nbformat_minor": 2
}
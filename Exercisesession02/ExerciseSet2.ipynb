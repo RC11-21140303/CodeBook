{
 "cells": [
  {
   "cell_type": "markdown",
   "metadata": {},
   "source": [
    "# Exercises 2\n",
    "\n",
    "__Python basics__"
   ]
  },
  {
   "cell_type": "markdown",
   "metadata": {},
   "source": [
    "### Exercise 1 - Padovan sequence\n",
    "write a function that prints the n first numbers of the padovan sequence."
   ]
  },
  {
   "cell_type": "code",
   "execution_count": 28,
   "metadata": {},
   "outputs": [
    {
     "name": "stdout",
     "output_type": "stream",
     "text": [
      "1\n",
      "1\n",
      "1\n",
      "2\n",
      "2\n",
      "3\n",
      "4\n",
      "5\n",
      "7\n",
      "9\n",
      "12\n",
      "16\n",
      "21\n",
      "28\n",
      "37\n",
      "49\n",
      "65\n"
     ]
    }
   ],
   "source": [
    "pa = 1\n",
    "pb = 1\n",
    "pc = 1\n",
    "n = 0\n",
    "for i in range(17):\n",
    "    if n <= 2:\n",
    "        print(\"1\")\n",
    "    else:\n",
    "        pn = pa + pb\n",
    "        pa = pb\n",
    "        pb = pc\n",
    "        pc = pn\n",
    "        print(pn)\n",
    "    n = n+1"
   ]
  },
  {
   "cell_type": "markdown",
   "metadata": {},
   "source": [
    "-------"
   ]
  },
  {
   "cell_type": "code",
   "execution_count": 59,
   "metadata": {},
   "outputs": [],
   "source": [
    "asciiArt = \"                   \\  |  /         ___________                       ____________  \\ \\_# /         |  ___      |       _________     |            |  \\  #/          | |   |     |      | = = = = |    | |   |   |  |   \\\\#           | |`v'|     |      |         |    |            |    \\#  //       |  --- ___  |      | |  || | |    | |   |   |  |     #_//        |     |   | |      |         |    |            |  \\\\ #_/_______  |     |   | |      | |  || | |    | |   |   |  |   \\\\# /_____/ \\ |      ---  |      |         |    |            |    \\# |+ ++|  | |  |^^^^^^| |      | |  || | |    |            |    \\# |+ ++|  | |  |^^^^^^| |      | |  || | | ^^^|    (^^^^^) |^^^^^#^| H  |_ |^|  | |||| | |^^^^^^|         |    |    ( ||| ) |     # ^^^^^^    |  | |||| | |      | ||||||| |    ^^^^^^^^^^^^^________/  /_____ |  | |||| | |      | ||||||| |         `v'-                      ^^^^^^^^^^^^^      | ||||||| |          || |`.      (__)    (__)                          ( )                        (oo)    (oo)                       /---V                  /-------\\/      \\/ --------\\             * |  |                 / |     ||        ||_______| \\                                  *  ||W---||        ||      ||  *                                    ^^    ^^        ^^      ^^                        \""
   ]
  },
  {
   "cell_type": "markdown",
   "metadata": {},
   "source": [
    "### Exercise 2 - ASCII Art\n",
    "There's a very long string variable named ```asciiArt```, defined above (don't edit this cell, but do run it first).\n",
    "\n",
    "If you print it on seperate lines, at a certain line length an ascii art scene will appear.\n",
    "\n",
    "hint: answer of exercise 1, n = 17"
   ]
  },
  {
   "cell_type": "code",
   "execution_count": 75,
   "metadata": {
    "scrolled": true
   },
   "outputs": [
    {
     "name": "stdout",
     "output_type": "stream",
     "text": [
      " \n",
      "                  \\  |  /         ___________                    \n",
      "   ____________  \\ \\_# /         |  ___      |       _________   \n",
      "  |            |  \\  #/          | |   |     |      | = = = = |  \n",
      "  | |   |   |  |   \\#           | |`v'|     |      |         |   \n",
      " |            |    \\#  //       |  --- ___  |      | |  || | |   \n",
      " | |   |   |  |     #_//        |     |   | |      |         |   \n",
      " |            |  \\ #_/_______  |     |   | |      | |  || | |    \n",
      "| |   |   |  |   \\# /_____/ \\ |      ---  |      |         |    |\n",
      "            |    \\# |+ ++|  | |  |^^^^^^| |      | |  || | |    |\n",
      "            |    \\# |+ ++|  | |  |^^^^^^| |      | |  || | | ^^^|\n",
      "    (^^^^^) |^^^^^#^| H  |_ |^|  | |||| | |^^^^^^|         |    |\n",
      "    ( ||| ) |     # ^^^^^^    |  | |||| | |      | ||||||| |    ^\n",
      "^^^^^^^^^^^^________/  /_____ |  | |||| | |      | ||||||| |     \n",
      "    `v'-                      ^^^^^^^^^^^^^      | ||||||| |     \n",
      "     || |`.      (__)    (__)                          ( )       \n",
      "                 (oo)    (oo)                       /---V        \n",
      "          /-------\\/      \\/ --------\\             * |  |        \n",
      "         / |     ||        ||_______| \\                          \n",
      "        *  ||W---||        ||      ||  *                         \n",
      "           ^^    ^^        ^^      ^^                        "
     ]
    }
   ],
   "source": [
    "asciiArtList=[]\n",
    "for char in asciiArt:\n",
    "    asciiArtList.append(char)\n",
    "        \n",
    "for i in range(len(asciiArtList)):\n",
    "    if (i%65==0):\n",
    "        print(asciiArtList[i])\n",
    "    else:\n",
    "        print(asciiArtList[i],end=\"\")"
   ]
  },
  {
   "cell_type": "markdown",
   "metadata": {},
   "source": [
    "### Exercise 3 - christmas tree\n",
    "Write a program using for loops to print a christmas tree of `x` lines high specified by the user. (use for loops)\n",
    "\n",
    "So for instance, a chrismas tree of 4 high should look like this:\n",
    "```\n",
    "    *\n",
    "   ***\n",
    "  *****\n",
    " *******\n",
    "    |\n",
    "```"
   ]
  },
  {
   "cell_type": "code",
   "execution_count": 43,
   "metadata": {},
   "outputs": [
    {
     "name": "stdout",
     "output_type": "stream",
     "text": [
      "   *\n",
      "  ***\n",
      " *****\n",
      "*******\n",
      "   |\n"
     ]
    }
   ],
   "source": [
    "h=4\n",
    "for i in range(h):\n",
    "    print((' '*(h-(i+1)))+('*'*((i+1)*2-1)))\n",
    "print((' '* (h-1)) + '|')"
   ]
  }
 ],
 "metadata": {
  "kernelspec": {
   "display_name": "Python 3",
   "language": "python",
   "name": "python3"
  },
  "language_info": {
   "codemirror_mode": {
    "name": "ipython",
    "version": 3
   },
   "file_extension": ".py",
   "mimetype": "text/x-python",
   "name": "python",
   "nbconvert_exporter": "python",
   "pygments_lexer": "ipython3",
   "version": "3.8.8"
  }
 },
 "nbformat": 4,
 "nbformat_minor": 2
}
